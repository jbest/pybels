{
 "cells": [
  {
   "cell_type": "code",
   "execution_count": 1,
   "id": "76ff62eb-3be3-4916-8534-818ad6604c8e",
   "metadata": {},
   "outputs": [],
   "source": [
    "# A test to select unique BELS IDs, process using BELS_Grouper to get Grouper groups,\n",
    "# then merge back with original\n",
    "# Goal is to make it all faster"
   ]
  },
  {
   "cell_type": "code",
   "execution_count": 3,
   "id": "5f4a976c-5a4f-488a-a900-a588728ebaeb",
   "metadata": {},
   "outputs": [],
   "source": [
    "import pandas as pd\n"
   ]
  },
  {
   "cell_type": "code",
   "execution_count": 2,
   "id": "da2e0cb3-682d-434a-9906-a8fa9ea96482",
   "metadata": {},
   "outputs": [],
   "source": [
    "input_path = '/media/jbest/data3/BRIT_git/pybels/BELS_Grouper_results/Tarrant_BELS_Grouper.csv'"
   ]
  },
  {
   "cell_type": "code",
   "execution_count": 5,
   "id": "7e85b183-f886-4044-b76b-6b3fa7f34fb0",
   "metadata": {},
   "outputs": [],
   "source": [
    "df_input = pd.read_csv(input_path, low_memory=False, sep='\\t')"
   ]
  },
  {
   "cell_type": "code",
   "execution_count": 6,
   "id": "9e739f08-079b-4bdc-af77-dfcaa4ad6684",
   "metadata": {},
   "outputs": [
    {
     "data": {
      "text/plain": [
       "(20353, 111)"
      ]
     },
     "execution_count": 6,
     "metadata": {},
     "output_type": "execute_result"
    }
   ],
   "source": [
    "df_input.shape"
   ]
  },
  {
   "cell_type": "code",
   "execution_count": 9,
   "id": "8a2dfea9-6b94-4be0-a014-b776986725b6",
   "metadata": {},
   "outputs": [
    {
     "data": {
      "text/plain": [
       "['Unnamed: 0',\n",
       " 'id',\n",
       " 'institutionCode',\n",
       " 'collectionCode',\n",
       " 'ownerInstitutionCode',\n",
       " 'basisOfRecord',\n",
       " 'occurrenceID',\n",
       " 'catalogNumber',\n",
       " 'otherCatalogNumbers',\n",
       " 'higherClassification',\n",
       " 'kingdom',\n",
       " 'phylum',\n",
       " 'class',\n",
       " 'order',\n",
       " 'family',\n",
       " 'scientificName',\n",
       " 'taxonID',\n",
       " 'scientificNameAuthorship',\n",
       " 'genus',\n",
       " 'subgenus',\n",
       " 'specificEpithet',\n",
       " 'verbatimTaxonRank',\n",
       " 'infraspecificEpithet',\n",
       " 'cultivarEpithet',\n",
       " 'tradeName',\n",
       " 'taxonRank',\n",
       " 'identifiedBy',\n",
       " 'dateIdentified',\n",
       " 'identificationReferences',\n",
       " 'identificationRemarks',\n",
       " 'taxonRemarks',\n",
       " 'identificationQualifier',\n",
       " 'typeStatus',\n",
       " 'recordedBy',\n",
       " 'associatedCollectors',\n",
       " 'recordNumber',\n",
       " 'eventDate',\n",
       " 'eventDate2',\n",
       " 'year',\n",
       " 'month',\n",
       " 'day',\n",
       " 'startDayOfYear',\n",
       " 'endDayOfYear',\n",
       " 'verbatimEventDate',\n",
       " 'occurrenceRemarks',\n",
       " 'habitat',\n",
       " 'substrate',\n",
       " 'verbatimAttributes',\n",
       " 'behavior',\n",
       " 'vitality',\n",
       " 'fieldNumber',\n",
       " 'eventID',\n",
       " 'informationWithheld',\n",
       " 'dataGeneralizations',\n",
       " 'dynamicProperties',\n",
       " 'associatedOccurrences',\n",
       " 'associatedSequences',\n",
       " 'associatedTaxa',\n",
       " 'reproductiveCondition',\n",
       " 'establishmentMeans',\n",
       " 'cultivationStatus',\n",
       " 'lifeStage',\n",
       " 'sex',\n",
       " 'individualCount',\n",
       " 'samplingProtocol',\n",
       " 'preparations',\n",
       " 'locationID',\n",
       " 'continent',\n",
       " 'waterBody',\n",
       " 'islandGroup',\n",
       " 'island',\n",
       " 'country',\n",
       " 'countryCode',\n",
       " 'stateProvince',\n",
       " 'county_original',\n",
       " 'municipality',\n",
       " 'locality',\n",
       " 'locationRemarks',\n",
       " 'localitySecurity',\n",
       " 'localitySecurityReason',\n",
       " 'decimalLatitude',\n",
       " 'decimalLongitude',\n",
       " 'geodeticDatum',\n",
       " 'coordinateUncertaintyInMeters',\n",
       " 'verbatimCoordinates',\n",
       " 'georeferencedBy',\n",
       " 'georeferenceProtocol',\n",
       " 'georeferenceSources',\n",
       " 'georeferenceVerificationStatus',\n",
       " 'georeferenceRemarks',\n",
       " 'minimumElevationInMeters',\n",
       " 'maximumElevationInMeters',\n",
       " 'minimumDepthInMeters',\n",
       " 'maximumDepthInMeters',\n",
       " 'verbatimDepth',\n",
       " 'verbatimElevation',\n",
       " 'disposition',\n",
       " 'language',\n",
       " 'recordEnteredBy',\n",
       " 'modified',\n",
       " 'sourcePrimaryKey-dbpk',\n",
       " 'collID',\n",
       " 'recordID',\n",
       " 'references',\n",
       " 'county',\n",
       " 'bels_location_string',\n",
       " 'bels_location_id',\n",
       " 'dup_loc_count',\n",
       " 'Group_ID',\n",
       " 'Sub_Group_ID',\n",
       " 'id_score']"
      ]
     },
     "execution_count": 9,
     "metadata": {},
     "output_type": "execute_result"
    }
   ],
   "source": [
    "df_input.columns.to_list()"
   ]
  },
  {
   "cell_type": "code",
   "execution_count": 10,
   "id": "e8b6bcce-80d6-4695-8fe3-79040003b543",
   "metadata": {},
   "outputs": [],
   "source": [
    "df_bels_unique = df_input.groupby('bels_location_id').first().reset_index()"
   ]
  },
  {
   "cell_type": "code",
   "execution_count": 11,
   "id": "4ecf2fe2-2dfc-4fb1-b019-9931f9937857",
   "metadata": {},
   "outputs": [
    {
     "data": {
      "text/plain": [
       "(7014, 111)"
      ]
     },
     "execution_count": 11,
     "metadata": {},
     "output_type": "execute_result"
    }
   ],
   "source": [
    "df_bels_unique.shape"
   ]
  },
  {
   "cell_type": "code",
   "execution_count": 12,
   "id": "e4a4973d-99b6-41f7-b509-53193b4f69a7",
   "metadata": {},
   "outputs": [],
   "source": [
    "# Create a \"pre Grouper\" sample file to test with\n",
    "df_ungrouped = df_input.drop(columns=['Group_ID','Sub_Group_ID','id_score'])"
   ]
  },
  {
   "cell_type": "code",
   "execution_count": 13,
   "id": "1b736ae5-ac66-42a9-9424-7aa49a5b0e2f",
   "metadata": {},
   "outputs": [
    {
     "data": {
      "text/plain": [
       "(20353, 108)"
      ]
     },
     "execution_count": 13,
     "metadata": {},
     "output_type": "execute_result"
    }
   ],
   "source": [
    "df_ungrouped.shape"
   ]
  },
  {
   "cell_type": "code",
   "execution_count": 14,
   "id": "9a8b497f-2373-4ebd-95ff-d27cf32924fb",
   "metadata": {},
   "outputs": [],
   "source": [
    "# merge results of a filtered BELS_Grouper dataset with original ungrouped\n",
    "df_remerged = pd.merge(\n",
    "    df_ungrouped,\n",
    "    df_bels_unique[['bels_location_id', 'Group_ID','Sub_Group_ID','id_score']],\n",
    "    on='bels_location_id',\n",
    "    how='left'\n",
    ")"
   ]
  },
  {
   "cell_type": "code",
   "execution_count": 15,
   "id": "0cdb4fe1-b763-4d5d-bd53-df7750f3c29c",
   "metadata": {},
   "outputs": [
    {
     "data": {
      "text/plain": [
       "(20353, 111)"
      ]
     },
     "execution_count": 15,
     "metadata": {},
     "output_type": "execute_result"
    }
   ],
   "source": [
    "df_remerged.shape"
   ]
  },
  {
   "cell_type": "code",
   "execution_count": 17,
   "id": "3373eca2-14a4-46db-80ff-13f6a7f159cd",
   "metadata": {},
   "outputs": [],
   "source": [
    "df_remerged.to_csv('BELS_Grouper_TEST_remerged.tsv', index=False, sep='\\t')"
   ]
  },
  {
   "cell_type": "code",
   "execution_count": null,
   "id": "c6145af0-aa2d-45bc-bee6-2e425af32f4b",
   "metadata": {},
   "outputs": [],
   "source": [
    "#Create test BELS file to run on BELS_Grouper"
   ]
  }
 ],
 "metadata": {
  "kernelspec": {
   "display_name": "Python 3 (ipykernel)",
   "language": "python",
   "name": "python3"
  },
  "language_info": {
   "codemirror_mode": {
    "name": "ipython",
    "version": 3
   },
   "file_extension": ".py",
   "mimetype": "text/x-python",
   "name": "python",
   "nbconvert_exporter": "python",
   "pygments_lexer": "ipython3",
   "version": "3.12.3"
  }
 },
 "nbformat": 4,
 "nbformat_minor": 5
}
