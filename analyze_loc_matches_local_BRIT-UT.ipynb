{
 "cells": [
  {
   "cell_type": "code",
   "execution_count": 106,
   "id": "10d5c55b-a50b-4051-8c93-320ba4fa31d0",
   "metadata": {},
   "outputs": [
    {
     "data": {
      "text/plain": [
       "'\\n#Loads a CSV DwC occurrence file that has been augmented with BELS locality strings\\n'"
      ]
     },
     "execution_count": 106,
     "metadata": {},
     "output_type": "execute_result"
    }
   ],
   "source": [
    "\"\"\"\n",
    "#Loads a CSV DwC occurrence file that has been augmented with BELS locality strings\n",
    "\"\"\""
   ]
  },
  {
   "cell_type": "code",
   "execution_count": 107,
   "id": "c61251ce-f28e-4241-b613-cf19bff315a9",
   "metadata": {},
   "outputs": [],
   "source": [
    "import pandas as pd\n",
    "import matplotlib\n",
    "\n",
    "# switch to suppress CSV writing (which is slow)\n",
    "write_csv = True"
   ]
  },
  {
   "cell_type": "code",
   "execution_count": 108,
   "id": "3f7962e2-b7e9-4fce-9e68-abf3139f9ba3",
   "metadata": {},
   "outputs": [],
   "source": [
    "# BRIT UT colab\n",
    "df_occ = pd.read_csv('torch_bels_BRIT_UT_locs.csv', low_memory=False, sep='\\t')\n"
   ]
  },
  {
   "cell_type": "code",
   "execution_count": 109,
   "id": "2b64c015-5245-4030-9d88-e98bc0e799f7",
   "metadata": {},
   "outputs": [],
   "source": [
    "# file name components to make writing CSVs dynamic and prevent overwrites\n",
    "batch_prefix = 'TORCH'\n",
    "batch_designator = 'BRIT_UT'"
   ]
  },
  {
   "cell_type": "code",
   "execution_count": 110,
   "id": "c3de6262-33d4-4dc4-a292-92b759b36714",
   "metadata": {},
   "outputs": [
    {
     "data": {
      "text/plain": [
       "(513076, 96)"
      ]
     },
     "execution_count": 110,
     "metadata": {},
     "output_type": "execute_result"
    }
   ],
   "source": [
    "df_occ.shape"
   ]
  },
  {
   "cell_type": "code",
   "execution_count": 165,
   "id": "05e98421-4177-44b2-8fb0-9c8cc8b95eb8",
   "metadata": {},
   "outputs": [],
   "source": [
    "# Collections to include via institution code\n",
    "BRIT_plus = ['BRIT','VDB','NLU','HSU','ACU','TAC','NTSC','TCSW','SMU']\n",
    "UT_plus = ['TEX', 'LL']\n",
    "BRIT_UT_all = BRIT_plus + UT_plus"
   ]
  },
  {
   "cell_type": "code",
   "execution_count": 112,
   "id": "9e63d2a7-cb74-4062-83d8-62f899bfd4e7",
   "metadata": {},
   "outputs": [],
   "source": [
    "# Counties for initial comparision\n",
    "tx_transpecos_counties = ['Brewster','Jeff Davis','Presidio','El Paso','Val Verde','Culberson','Hudspeth','Terrell','Reeves','Winkler','Ward','Crockett','Loving','Crane','Upton']"
   ]
  },
  {
   "cell_type": "code",
   "execution_count": 113,
   "id": "bb4b35d4-dd6d-4de5-a3fa-5809c4638bcf",
   "metadata": {},
   "outputs": [],
   "source": [
    "# Drop irrelevant colums\n",
    "# NOTE not all of these columns occur across all collections\n",
    "#drop_columns= ['higherClassification','kingdom','phylum','class','order','identificationReferences','identificationRemarks','taxonRemarks','identificationQualifier','typeStatus','fieldNumber','eventID','informationWithheld','dataGeneralizations','dynamicProperties','associatedSequences','associatedTaxa','reproductiveCondition','establishmentMeans','lifeStage','sex','individualCount','samplingProtocol','preparations','continent','waterBody','islandGroup','island','rights','rightsHolder','accessRights','recordID','type','license','bibliographicCitation','datasetName','fieldNotes','countryCode','nomenclaturalCode','nomenclaturalStatus','associatedMedia','higherGeography','institutionID','georeferencedDate','datasetID','occurrenceStatus','verbatimLocality','organismID','previousIdentifications','eventTime','eventRemarks','locationAccordingTo','verbatimCoordinateSystem','footprintWKT','earliestEonOrLowestEonothem','earliestEraOrLowestErathem','earliestPeriodOrLowestSystem','earliestEpochOrLowestSeries','earliestAgeOrLowestStage','group','formation','member','identificationVerificationStatus','scientificNameID']\n",
    "\n",
    "# more agressive drop\n",
    "drop_columns= ['higherClassification','kingdom','phylum','class','order','identificationReferences',\n",
    "               'identificationRemarks','taxonRemarks','identificationQualifier','typeStatus','fieldNumber',\n",
    "               'eventID','informationWithheld','dataGeneralizations','dynamicProperties','associatedSequences',\n",
    "               'associatedTaxa','reproductiveCondition','establishmentMeans','lifeStage','sex','individualCount',\n",
    "               'samplingProtocol','preparations','continent','waterBody','islandGroup','island','rights','rightsHolder',\n",
    "               'accessRights','recordID','type','license','bibliographicCitation','datasetName','fieldNotes','countryCode',\n",
    "               'nomenclaturalCode','nomenclaturalStatus','associatedMedia','higherGeography','institutionID','georeferencedDate',\n",
    "               'datasetID','occurrenceStatus','verbatimLocality','organismID','previousIdentifications','eventTime',\n",
    "               'eventRemarks','locationAccordingTo','verbatimCoordinateSystem','footprintWKT','earliestEonOrLowestEonothem',\n",
    "               'earliestEraOrLowestErathem','earliestPeriodOrLowestSystem','earliestEpochOrLowestSeries','earliestAgeOrLowestStage',\n",
    "               'group','formation','member','identificationVerificationStatus','scientificNameID',\n",
    "               'basisOfRecord','subgenus','specificEpithet','verbatimTaxonRank','infraspecificEpithet','taxonRank','identifiedBy',\n",
    "               'dateIdentified','year','month','day','startDayOfYear','endDayOfYear'\n",
    "              ]\n",
    "\n",
    "\n",
    "df_occ = df_occ.drop(columns=drop_columns, errors='ignore')"
   ]
  },
  {
   "cell_type": "code",
   "execution_count": 114,
   "id": "d8ce3fd1-65a5-4901-b8a6-c7a74eb54116",
   "metadata": {},
   "outputs": [
    {
     "data": {
      "text/plain": [
       "(513076, 49)"
      ]
     },
     "execution_count": 114,
     "metadata": {},
     "output_type": "execute_result"
    }
   ],
   "source": [
    "df_occ.shape"
   ]
  },
  {
   "cell_type": "code",
   "execution_count": 115,
   "id": "16ad9ef1-d969-420a-bf3a-41a760f6faf9",
   "metadata": {},
   "outputs": [],
   "source": [
    "# Find duplicate records\n",
    "df_matches = df_occ[df_occ['bels_location_string'].duplicated(keep=False)]\n",
    "#df_matches = df_denton[df_denton.bels_matchwithcoords"
   ]
  },
  {
   "cell_type": "code",
   "execution_count": 116,
   "id": "5bf6483c-299c-4640-8a3d-65af99aaebf6",
   "metadata": {},
   "outputs": [
    {
     "data": {
      "text/plain": [
       "(327700, 49)"
      ]
     },
     "execution_count": 116,
     "metadata": {},
     "output_type": "execute_result"
    }
   ],
   "source": [
    "df_matches.shape"
   ]
  },
  {
   "cell_type": "code",
   "execution_count": 117,
   "id": "d3e272de-5508-4d96-8a46-4dbeb4bf53fd",
   "metadata": {},
   "outputs": [],
   "source": [
    "# Add location ID\n",
    "# first create a copy to avoid copy of a slice of a DF\n",
    "df_matches = df_matches.copy()\n",
    "# https://stackoverflow.com/a/51110197 or https://stackoverflow.com/a/51110205\n",
    "df_matches['loc_id'] = df_matches.groupby(['bels_location_string']).ngroup()"
   ]
  },
  {
   "cell_type": "code",
   "execution_count": 118,
   "id": "74ff8d1a-59f4-486b-9c48-00d347f4656e",
   "metadata": {},
   "outputs": [],
   "source": [
    "# Add dup loc count column for the size of each location cluster (number of duplicate locations)\n",
    "#https://stackoverflow.com/a/46768694\n",
    "df_matches['dup_loc_count'] = df_matches.groupby(['bels_location_string']).transform('size')"
   ]
  },
  {
   "cell_type": "code",
   "execution_count": 119,
   "id": "2afc38e3-633d-469c-b55f-712aac705977",
   "metadata": {},
   "outputs": [],
   "source": [
    "# Add a count of the number of records in each dup gruoup that have a geocoord\n",
    "# https://www.statology.org/pandas-groupby-count-with-condition/\n",
    "#df.groupby('var1')['var2'].apply(lambda x: (x=='val').sum()).reset_index(name='count')\n",
    "#['decimalLatitude'].isna()\n",
    "df_counts = df_matches.groupby('loc_id')['decimalLatitude'].apply(lambda x: (x.isna()).sum()).reset_index(name='count')"
   ]
  },
  {
   "cell_type": "code",
   "execution_count": 120,
   "id": "bed5ed9e-cbab-4914-ad29-75031776ba2b",
   "metadata": {},
   "outputs": [],
   "source": [
    "# With help from Claude.ai, a new approach to store the results into the original dataframe:\n",
    "df_matches['loc_geo_count'] = df_matches.groupby('loc_id')['decimalLatitude'].transform(lambda x: (x.notna()).sum())"
   ]
  },
  {
   "cell_type": "code",
   "execution_count": 121,
   "id": "0c7815dd-771f-48ea-9de8-43ece9247269",
   "metadata": {},
   "outputs": [
    {
     "data": {
      "text/plain": [
       "(327700, 52)"
      ]
     },
     "execution_count": 121,
     "metadata": {},
     "output_type": "execute_result"
    }
   ],
   "source": [
    "df_matches.shape"
   ]
  },
  {
   "cell_type": "code",
   "execution_count": 122,
   "id": "3d5814dd-3986-46a7-b550-264c05a9e797",
   "metadata": {},
   "outputs": [],
   "source": [
    "# count number of locations with no georef\n",
    "df_zero_geo = df_matches[df_matches['loc_geo_count'] == 0]"
   ]
  },
  {
   "cell_type": "code",
   "execution_count": 123,
   "id": "bfb55f99-564d-4d60-8ef6-abd6bde173ff",
   "metadata": {},
   "outputs": [
    {
     "data": {
      "text/plain": [
       "(153264, 52)"
      ]
     },
     "execution_count": 123,
     "metadata": {},
     "output_type": "execute_result"
    }
   ],
   "source": [
    "df_zero_geo.shape"
   ]
  },
  {
   "cell_type": "code",
   "execution_count": 124,
   "id": "8fd287d5-ffc9-45e7-b162-e9849ae54379",
   "metadata": {},
   "outputs": [],
   "source": [
    "# number of unique locations with zero geo\n",
    "#df_zero_geo['loc_id'].nunique()"
   ]
  },
  {
   "cell_type": "code",
   "execution_count": 125,
   "id": "58dd1d1b-bdd4-45dd-9cad-3f65ea8c4fc0",
   "metadata": {},
   "outputs": [],
   "source": [
    "# in Texas\n",
    "df_zero_geo_tx = df_zero_geo[df_zero_geo['stateProvince'] == 'Texas']"
   ]
  },
  {
   "cell_type": "code",
   "execution_count": 126,
   "id": "1898ae30-d09d-4331-be1f-bbe828b03ed3",
   "metadata": {},
   "outputs": [
    {
     "data": {
      "text/plain": [
       "(128698, 52)"
      ]
     },
     "execution_count": 126,
     "metadata": {},
     "output_type": "execute_result"
    }
   ],
   "source": [
    "df_zero_geo_tx.shape"
   ]
  },
  {
   "cell_type": "code",
   "execution_count": 127,
   "id": "a0abbfac-1745-4daf-93d1-a062f4767ef2",
   "metadata": {},
   "outputs": [],
   "source": [
    "if write_csv:\n",
    "    filename = batch_prefix+'_'+batch_designator+'_zero_geo_tx.csv'\n",
    "    df_matches.to_csv(filename)"
   ]
  },
  {
   "cell_type": "code",
   "execution_count": 128,
   "id": "7bc798b4-950c-41e0-a736-07604d029c0a",
   "metadata": {},
   "outputs": [
    {
     "data": {
      "text/plain": [
       "(124596, 52)"
      ]
     },
     "execution_count": 128,
     "metadata": {},
     "output_type": "execute_result"
    }
   ],
   "source": [
    "# filter loc with insufficient locality string\n",
    "# Drop records with only the state name in bels string\n",
    "df_zero_geo_no_state_only = df_zero_geo_tx[~df_zero_geo_tx.apply(lambda row: row['stateProvince'].lower() == row['bels_location_string'].lower(), axis=1)]\n",
    "\n",
    "# remove state + county matches\n",
    "df_zero_geo_no_state_county_only = df_zero_geo_state_only[~df_zero_geo_state_only.apply(lambda row: (str(row['stateProvince']) + str(row['county'])).lower() == row['bels_location_string'].lower(), axis=1)]\n",
    "\n",
    "df_zero_geo_no_state_county_only.shape"
   ]
  },
  {
   "cell_type": "code",
   "execution_count": 129,
   "id": "5fb40658-8c08-44a1-a73d-2a03a0464ee1",
   "metadata": {},
   "outputs": [
    {
     "data": {
      "text/plain": [
       "(122131, 52)"
      ]
     },
     "execution_count": 129,
     "metadata": {},
     "output_type": "execute_result"
    }
   ],
   "source": [
    "# TODO\n",
    "# remove other strings that indicate low likelyhood of being able to georef\n",
    "#texasnoadditionallocalitydataonsheet\n",
    "#texastarrantnodata\n",
    "#texasdentondentonconoadditionallocalitydataonsheet\n",
    "#texashendersonnoadditionallocalitydataonsheet\n",
    "# texashendersonhendersonconoadditionallocalitydataonsheet\n",
    "no_locality_strings = ['noadditionallocalitydataonsheet', 'nodata']\n",
    "\n",
    "# Drop rows where the column contains any of the patterns\n",
    "df_zero_geo_tx_cleaned = df_zero_geo_no_state_county_only[~df_zero_geo_no_state_county_only['bels_location_string'].str.contains('|'.join(no_locality_strings), case=True, na=False)]\n",
    "df_zero_geo_tx_cleaned.shape"
   ]
  },
  {
   "cell_type": "code",
   "execution_count": null,
   "id": "79ab2168-04c6-411d-b5a8-689f0f07a2c0",
   "metadata": {},
   "outputs": [],
   "source": []
  },
  {
   "cell_type": "code",
   "execution_count": null,
   "id": "c8e1516e-7d76-4c25-85b1-a590eb1c681d",
   "metadata": {},
   "outputs": [],
   "source": []
  },
  {
   "cell_type": "code",
   "execution_count": 130,
   "id": "f90ed2f9-f26d-43d6-90e3-c332c3bba052",
   "metadata": {},
   "outputs": [],
   "source": [
    "# add counts by county\n",
    "#df_nogeo_with_geolocdups_nostatecounty\n",
    "county_summary = df_zero_geo_state_county_only.groupby(['stateProvince','county']).agg(\n",
    "    total_location_recs=('loc_id', 'count'),\n",
    "    #sum_id_count=('dup_loc_count', 'sum'),\n",
    "    unique_locations=('loc_id', 'nunique'),\n",
    "    #dup_loc_count=('dup_loc_count', 'min'),\n",
    "    loc_geo_count=('loc_geo_count', 'max')\n",
    ")"
   ]
  },
  {
   "cell_type": "code",
   "execution_count": 131,
   "id": "417dfedf-0a39-47d5-9d1c-52669830a29a",
   "metadata": {},
   "outputs": [
    {
     "data": {
      "text/html": [
       "<div>\n",
       "<style scoped>\n",
       "    .dataframe tbody tr th:only-of-type {\n",
       "        vertical-align: middle;\n",
       "    }\n",
       "\n",
       "    .dataframe tbody tr th {\n",
       "        vertical-align: top;\n",
       "    }\n",
       "\n",
       "    .dataframe thead th {\n",
       "        text-align: right;\n",
       "    }\n",
       "</style>\n",
       "<table border=\"1\" class=\"dataframe\">\n",
       "  <thead>\n",
       "    <tr style=\"text-align: right;\">\n",
       "      <th></th>\n",
       "      <th></th>\n",
       "      <th>total_location_recs</th>\n",
       "      <th>unique_locations</th>\n",
       "      <th>loc_geo_count</th>\n",
       "    </tr>\n",
       "    <tr>\n",
       "      <th>stateProvince</th>\n",
       "      <th>county</th>\n",
       "      <th></th>\n",
       "      <th></th>\n",
       "      <th></th>\n",
       "    </tr>\n",
       "  </thead>\n",
       "  <tbody>\n",
       "    <tr>\n",
       "      <th rowspan=\"11\" valign=\"top\">Texas</th>\n",
       "      <th>Anderson</th>\n",
       "      <td>1445</td>\n",
       "      <td>265</td>\n",
       "      <td>0</td>\n",
       "    </tr>\n",
       "    <tr>\n",
       "      <th>Andrews</th>\n",
       "      <td>146</td>\n",
       "      <td>44</td>\n",
       "      <td>0</td>\n",
       "    </tr>\n",
       "    <tr>\n",
       "      <th>Angelina</th>\n",
       "      <td>715</td>\n",
       "      <td>166</td>\n",
       "      <td>0</td>\n",
       "    </tr>\n",
       "    <tr>\n",
       "      <th>Aransas</th>\n",
       "      <td>941</td>\n",
       "      <td>207</td>\n",
       "      <td>0</td>\n",
       "    </tr>\n",
       "    <tr>\n",
       "      <th>Archer</th>\n",
       "      <td>232</td>\n",
       "      <td>43</td>\n",
       "      <td>0</td>\n",
       "    </tr>\n",
       "    <tr>\n",
       "      <th>...</th>\n",
       "      <td>...</td>\n",
       "      <td>...</td>\n",
       "      <td>...</td>\n",
       "    </tr>\n",
       "    <tr>\n",
       "      <th>Yoakum</th>\n",
       "      <td>18</td>\n",
       "      <td>5</td>\n",
       "      <td>0</td>\n",
       "    </tr>\n",
       "    <tr>\n",
       "      <th>Young</th>\n",
       "      <td>137</td>\n",
       "      <td>42</td>\n",
       "      <td>0</td>\n",
       "    </tr>\n",
       "    <tr>\n",
       "      <th>Zapata</th>\n",
       "      <td>246</td>\n",
       "      <td>72</td>\n",
       "      <td>0</td>\n",
       "    </tr>\n",
       "    <tr>\n",
       "      <th>Zavala</th>\n",
       "      <td>163</td>\n",
       "      <td>45</td>\n",
       "      <td>0</td>\n",
       "    </tr>\n",
       "    <tr>\n",
       "      <th>mitchell</th>\n",
       "      <td>1</td>\n",
       "      <td>1</td>\n",
       "      <td>0</td>\n",
       "    </tr>\n",
       "  </tbody>\n",
       "</table>\n",
       "<p>264 rows × 3 columns</p>\n",
       "</div>"
      ],
      "text/plain": [
       "                        total_location_recs  unique_locations  loc_geo_count\n",
       "stateProvince county                                                        \n",
       "Texas         Anderson                 1445               265              0\n",
       "              Andrews                   146                44              0\n",
       "              Angelina                  715               166              0\n",
       "              Aransas                   941               207              0\n",
       "              Archer                    232                43              0\n",
       "...                                     ...               ...            ...\n",
       "              Yoakum                     18                 5              0\n",
       "              Young                     137                42              0\n",
       "              Zapata                    246                72              0\n",
       "              Zavala                    163                45              0\n",
       "              mitchell                    1                 1              0\n",
       "\n",
       "[264 rows x 3 columns]"
      ]
     },
     "execution_count": 131,
     "metadata": {},
     "output_type": "execute_result"
    }
   ],
   "source": [
    "county_summary"
   ]
  },
  {
   "cell_type": "code",
   "execution_count": 132,
   "id": "fbc3de95-e9a6-418c-a826-e135fb936156",
   "metadata": {},
   "outputs": [],
   "source": [
    "if write_csv:\n",
    "    filename = batch_prefix+'_'+batch_designator+'_county_summary.csv'\n",
    "    #df_matches.to_csv('TORCH_bels_matches_loc_id.csv')\n",
    "    county_summary.to_csv(filename)"
   ]
  },
  {
   "cell_type": "code",
   "execution_count": 133,
   "id": "5e475454-9ee4-43ae-b37d-dea674ad2a8e",
   "metadata": {},
   "outputs": [],
   "source": [
    "# add counts by location\n",
    "loc_summary = df_zero_geo_state_county_only.groupby(['stateProvince','county', 'loc_id']).agg(\n",
    "    dup_loc_count=('loc_id', 'count'),\n",
    "    #sum_id_count=('dup_loc_count', 'sum'),\n",
    "    #dup_loc_count=('dup_loc_count', 'max'),\n",
    "    #loc_geo_count=('loc_geo_count', 'max')\n",
    ")"
   ]
  },
  {
   "cell_type": "code",
   "execution_count": 134,
   "id": "aad2d684-5c36-4cd1-871c-27a0d34cb74b",
   "metadata": {},
   "outputs": [
    {
     "data": {
      "text/html": [
       "<div>\n",
       "<style scoped>\n",
       "    .dataframe tbody tr th:only-of-type {\n",
       "        vertical-align: middle;\n",
       "    }\n",
       "\n",
       "    .dataframe tbody tr th {\n",
       "        vertical-align: top;\n",
       "    }\n",
       "\n",
       "    .dataframe thead th {\n",
       "        text-align: right;\n",
       "    }\n",
       "</style>\n",
       "<table border=\"1\" class=\"dataframe\">\n",
       "  <thead>\n",
       "    <tr style=\"text-align: right;\">\n",
       "      <th></th>\n",
       "      <th></th>\n",
       "      <th></th>\n",
       "      <th>dup_loc_count</th>\n",
       "    </tr>\n",
       "    <tr>\n",
       "      <th>stateProvince</th>\n",
       "      <th>county</th>\n",
       "      <th>loc_id</th>\n",
       "      <th></th>\n",
       "    </tr>\n",
       "  </thead>\n",
       "  <tbody>\n",
       "    <tr>\n",
       "      <th rowspan=\"11\" valign=\"top\">Texas</th>\n",
       "      <th rowspan=\"5\" valign=\"top\">Anderson</th>\n",
       "      <th>6811</th>\n",
       "      <td>4</td>\n",
       "    </tr>\n",
       "    <tr>\n",
       "      <th>6812</th>\n",
       "      <td>2</td>\n",
       "    </tr>\n",
       "    <tr>\n",
       "      <th>6813</th>\n",
       "      <td>4</td>\n",
       "    </tr>\n",
       "    <tr>\n",
       "      <th>6814</th>\n",
       "      <td>2</td>\n",
       "    </tr>\n",
       "    <tr>\n",
       "      <th>6815</th>\n",
       "      <td>4</td>\n",
       "    </tr>\n",
       "    <tr>\n",
       "      <th>...</th>\n",
       "      <th>...</th>\n",
       "      <td>...</td>\n",
       "    </tr>\n",
       "    <tr>\n",
       "      <th rowspan=\"4\" valign=\"top\">Zavala</th>\n",
       "      <th>65426</th>\n",
       "      <td>3</td>\n",
       "    </tr>\n",
       "    <tr>\n",
       "      <th>65427</th>\n",
       "      <td>2</td>\n",
       "    </tr>\n",
       "    <tr>\n",
       "      <th>65428</th>\n",
       "      <td>2</td>\n",
       "    </tr>\n",
       "    <tr>\n",
       "      <th>65429</th>\n",
       "      <td>3</td>\n",
       "    </tr>\n",
       "    <tr>\n",
       "      <th>mitchell</th>\n",
       "      <th>44056</th>\n",
       "      <td>1</td>\n",
       "    </tr>\n",
       "  </tbody>\n",
       "</table>\n",
       "<p>30607 rows × 1 columns</p>\n",
       "</div>"
      ],
      "text/plain": [
       "                               dup_loc_count\n",
       "stateProvince county   loc_id               \n",
       "Texas         Anderson 6811                4\n",
       "                       6812                2\n",
       "                       6813                4\n",
       "                       6814                2\n",
       "                       6815                4\n",
       "...                                      ...\n",
       "              Zavala   65426               3\n",
       "                       65427               2\n",
       "                       65428               2\n",
       "                       65429               3\n",
       "              mitchell 44056               1\n",
       "\n",
       "[30607 rows x 1 columns]"
      ]
     },
     "execution_count": 134,
     "metadata": {},
     "output_type": "execute_result"
    }
   ],
   "source": [
    "loc_summary"
   ]
  },
  {
   "cell_type": "code",
   "execution_count": 135,
   "id": "ae9ffa1e-fbf9-4ac8-bfe5-e713686f21b0",
   "metadata": {},
   "outputs": [],
   "source": [
    "if write_csv:\n",
    "    filename = batch_prefix+'_'+batch_designator+'_loc_summary.csv'\n",
    "    #df_matches.to_csv('TORCH_bels_matches_loc_id.csv')\n",
    "    loc_summary.to_csv(filename)"
   ]
  },
  {
   "cell_type": "code",
   "execution_count": null,
   "id": "12f1cefd-d8be-491a-93ff-90a4c9a16125",
   "metadata": {},
   "outputs": [],
   "source": []
  },
  {
   "cell_type": "code",
   "execution_count": null,
   "id": "db7b3241-8c33-49cb-ade8-1995cc51066a",
   "metadata": {},
   "outputs": [],
   "source": []
  },
  {
   "cell_type": "code",
   "execution_count": null,
   "id": "280a36f6-83d5-4490-b815-c3b942d277fa",
   "metadata": {},
   "outputs": [],
   "source": []
  },
  {
   "cell_type": "code",
   "execution_count": 136,
   "id": "0ded16c5-6956-4691-a2fb-403b46a618b5",
   "metadata": {},
   "outputs": [],
   "source": [
    "# dups with goecoords\n",
    "dup_loc_count_geo = df_zero_geo_tx_cleaned.pivot_table(index = ['bels_location_string'], aggfunc ='size')"
   ]
  },
  {
   "cell_type": "code",
   "execution_count": 137,
   "id": "8fca09c5-2be5-42b5-84dc-e3b4724103d4",
   "metadata": {},
   "outputs": [
    {
     "data": {
      "text/plain": [
       "bels_location_string\n",
       "texas1misofhillister                                                        3\n",
       "texas5mileseastofnacogdochesonhwy7.                                         2\n",
       "texas5minofjacksboro                                                        2\n",
       "texas5thflieshle                                                            2\n",
       "texasab                                                                    29\n",
       "                                                                           ..\n",
       "texaszavalaushighway83,nuecesriverbottom10milesnorthoflapryortexas          3\n",
       "texaszavalaushighway83,nuecesriverbottom9milesnorthoflapryor                3\n",
       "texaszavalaushighway83,nuecesriverbottom9milesnorthoflapryorinsandyloam     2\n",
       "texaszavalaushwy83,11milesnorthofcrystalcity                                2\n",
       "texaszavalauvaldecrystalcity                                                3\n",
       "Length: 30421, dtype: int64"
      ]
     },
     "execution_count": 137,
     "metadata": {},
     "output_type": "execute_result"
    }
   ],
   "source": [
    "dup_loc_count_geo"
   ]
  },
  {
   "cell_type": "code",
   "execution_count": 138,
   "id": "610e3750-edc4-4845-ad52-fcc9ec5b7d16",
   "metadata": {},
   "outputs": [],
   "source": [
    "#TODO\n",
    "#Load ids of elite georeferencers - EG\n",
    "#df_georeferencers = pd.read_csv('TORCH-georeferencers_tested.csv', low_memory=False)\n",
    "\n",
    "#find records with geo that have been done by EGs\n",
    "#find records without geo that match those done by EGs"
   ]
  },
  {
   "cell_type": "code",
   "execution_count": 139,
   "id": "ff24581b-bf33-433c-b82c-afb2cf2a7a84",
   "metadata": {},
   "outputs": [],
   "source": [
    "# find locations that match loc_id of those done by EG\n",
    "#df_loc_match_by_egeo = df_matches[df_matches['loc_id'].isin(df_by_egeo['loc_id'])]"
   ]
  },
  {
   "cell_type": "code",
   "execution_count": 140,
   "id": "fce4be80-e832-4518-8f94-23325340bb67",
   "metadata": {},
   "outputs": [],
   "source": [
    "#df_loc_match_by_egeo.shape"
   ]
  },
  {
   "cell_type": "code",
   "execution_count": 141,
   "id": "c5ee249b-9eb3-476e-9386-17243cbc2105",
   "metadata": {},
   "outputs": [
    {
     "name": "stdout",
     "output_type": "stream",
     "text": [
      "\n",
      "Summary with reset index:\n",
      "    stateProvince    county  unique_locations  dup_count\n",
      "0           Texas  Anderson               264       1443\n",
      "1           Texas   Andrews                44        146\n",
      "2           Texas  Angelina               166        715\n",
      "3           Texas   Aransas               207        941\n",
      "4           Texas    Archer                42        230\n",
      "..            ...       ...               ...        ...\n",
      "259         Texas    Yoakum                 5         18\n",
      "260         Texas     Young                41        135\n",
      "261         Texas    Zapata                70        242\n",
      "262         Texas    Zavala                45        163\n",
      "263         Texas  mitchell                 1          1\n",
      "\n",
      "[264 rows x 4 columns]\n"
     ]
    }
   ],
   "source": [
    "county_summary_nogeo = df_zero_geo_tx_cleaned.groupby(['stateProvince','county']).agg(\n",
    "    #total_locations=('loc_id', 'count'),\n",
    "    unique_locations=('loc_id', 'nunique'),\n",
    "    #sum_id_count=('dup_loc_count', 'sum')\n",
    "    dup_count=('loc_id', 'count')\n",
    ")\n",
    "# Reset the index to make 'state' and 'county' regular columns\n",
    "county_summary_nogeo = county_summary_nogeo.reset_index()\n",
    "print(\"\\nSummary with reset index:\")\n",
    "print(county_summary_nogeo)"
   ]
  },
  {
   "cell_type": "code",
   "execution_count": 166,
   "id": "01c96b0f-7c08-4d48-b347-a67be046bea7",
   "metadata": {},
   "outputs": [
    {
     "data": {
      "text/plain": [
       "(62028, 52)"
      ]
     },
     "execution_count": 166,
     "metadata": {},
     "output_type": "execute_result"
    }
   ],
   "source": [
    "# BRIT collections only (including recent adoptions)\n",
    "#df_torch_texas_brit_zero_geo = df_zero_geo_tx_cleaned[(df_zero_geo_tx_cleaned['institutionCode'] == 'BRIT') | (df_zero_geo_tx_cleaned['institutionCode'] == 'VDB')]\n",
    "df_torch_texas_brit_zero_geo = df_zero_geo_tx_cleaned[(df_zero_geo_tx_cleaned['institutionCode'].isin(BRIT_plus))]\n",
    "\n",
    "\n",
    "df_torch_texas_brit_zero_geo.shape\n"
   ]
  },
  {
   "cell_type": "code",
   "execution_count": 162,
   "id": "7b9bea94-5bdc-4167-8488-883f93be2ba6",
   "metadata": {},
   "outputs": [
    {
     "data": {
      "text/plain": [
       "(60103, 52)"
      ]
     },
     "execution_count": 162,
     "metadata": {},
     "output_type": "execute_result"
    }
   ],
   "source": [
    "# UT collections only\n",
    "#df_torch_texas_ut_zero_geo = df_zero_geo_tx_cleaned[(df_zero_geo_tx_cleaned['institutionCode'] == 'TEX') | (df_zero_geo_tx_cleaned['institutionCode'] == 'LL')]\n",
    "df_torch_texas_ut_zero_geo = df_zero_geo_tx_cleaned[(df_zero_geo_tx_cleaned['institutionCode'].isin(UT_plus))]\n",
    "\n",
    "df_torch_texas_ut_zero_geo.shape"
   ]
  },
  {
   "cell_type": "code",
   "execution_count": 167,
   "id": "bdd19ed6-903d-496d-b4d5-b2713190c048",
   "metadata": {},
   "outputs": [
    {
     "name": "stdout",
     "output_type": "stream",
     "text": [
      "\n",
      "Summary with reset index:\n",
      "    stateProvince    county  unique_locations  loc_count  largest_dups\n",
      "0           Texas  Anderson               186        718            77\n",
      "1           Texas   Andrews                 3          4             4\n",
      "2           Texas  Angelina               105        348            70\n",
      "3           Texas   Aransas               130        463            53\n",
      "4           Texas    Archer                38        174            44\n",
      "..            ...       ...               ...        ...           ...\n",
      "223         Texas      Wood               172        811            58\n",
      "224         Texas     Young                35        110             9\n",
      "225         Texas    Zapata                51        158            14\n",
      "226         Texas    Zavala                28         85            16\n",
      "227         Texas  mitchell                 1          1             2\n",
      "\n",
      "[228 rows x 5 columns]\n"
     ]
    }
   ],
   "source": [
    "# Summarize BRIT Texas records\n",
    "brit_texas_county_summary_nogeo = df_torch_texas_brit_zero_geo.groupby(['stateProvince','county']).agg(\n",
    "    #total_locations=('loc_id', 'count'),\n",
    "    unique_locations=('loc_id', 'nunique'),\n",
    "    #sum_id_count=('dup_loc_count', 'sum')\n",
    "    loc_count=('loc_id', 'count'),\n",
    "    largest_dups = ('dup_loc_count', 'max')\n",
    ")\n",
    "# Reset the index to make 'state' and 'county' regular columns\n",
    "brit_texas_county_summary_nogeo = brit_texas_county_summary_nogeo.reset_index()\n",
    "print(\"\\nSummary with reset index:\")\n",
    "print(brit_texas_county_summary_nogeo)"
   ]
  },
  {
   "cell_type": "code",
   "execution_count": 168,
   "id": "e795c04b-07d2-4a2f-9ca5-a6df54e7f533",
   "metadata": {},
   "outputs": [],
   "source": [
    "# export BRIT Texas summary\n",
    "#brit_texas_county_summary_nogeo.to_csv('TORCH_brit_texas_county_summary_zerogeo.csv')\n",
    "if write_csv:\n",
    "    filename = batch_prefix+'_'+batch_designator+'_brit_texas_county_summary_nogeo.csv'\n",
    "    #df_matches.to_csv('TORCH_bels_matches_loc_id.csv')\n",
    "    brit_texas_county_summary_nogeo.to_csv(filename)"
   ]
  },
  {
   "cell_type": "code",
   "execution_count": 181,
   "id": "8f25498e-64e3-4acb-b12a-23442e4647cf",
   "metadata": {},
   "outputs": [],
   "source": [
    "#county_summary_nogeo.to_csv('TORCH_county_summary_nogeo.csv')"
   ]
  },
  {
   "cell_type": "code",
   "execution_count": 182,
   "id": "5d4c5c96-b9be-49c6-addf-455b1b9b1f41",
   "metadata": {},
   "outputs": [
    {
     "data": {
      "text/plain": [
       "(99, 64)"
      ]
     },
     "execution_count": 182,
     "metadata": {},
     "output_type": "execute_result"
    }
   ],
   "source": [
    "# Sampling individual counties\n",
    "#df_torch_texas_brit_nogeo\n",
    "# df_torch_texas_brit_nogeo = df_torch_texas_nogeo_nostatecounty[(df_torch_texas_nogeo_nostatecounty['institutionCode'] == 'BRIT') | (df_torch_texas_nogeo_nostatecounty['institutionCode'] == 'VDB')]\n",
    "\n",
    "df_brit_young_nogeo = df_torch_texas_brit_nogeo[df_torch_texas_brit_nogeo['county'] == 'Young']\n",
    "\n",
    "df_brit_young_nogeo.shape\n",
    "\n"
   ]
  },
  {
   "cell_type": "code",
   "execution_count": 169,
   "id": "ac61bacc-62aa-49db-9b68-05962c10cafd",
   "metadata": {},
   "outputs": [],
   "source": [
    "# Sampling Texas regions\n",
    "# Trans Pecos\n",
    "\n",
    "df_torch_texas_transpecos_zero_geo = df_zero_geo_tx_cleaned[(df_zero_geo_tx_cleaned['county'].isin(tx_transpecos_counties))]\n"
   ]
  },
  {
   "cell_type": "code",
   "execution_count": 170,
   "id": "cc6294df-2e4a-4c0e-9f37-3bf958f22920",
   "metadata": {},
   "outputs": [
    {
     "data": {
      "text/plain": [
       "(21352, 52)"
      ]
     },
     "execution_count": 170,
     "metadata": {},
     "output_type": "execute_result"
    }
   ],
   "source": [
    "df_torch_texas_transpecos_zero_geo.shape"
   ]
  },
  {
   "cell_type": "code",
   "execution_count": 171,
   "id": "b4bcdf87-1c17-45ac-be8c-332fcc03635e",
   "metadata": {},
   "outputs": [],
   "source": [
    "df_torch_texas_transpecos_BRIT_zero_geo = df_torch_texas_transpecos_zero_geo[(df_torch_texas_transpecos_zero_geo['institutionCode'].isin(BRIT_plus))]"
   ]
  },
  {
   "cell_type": "code",
   "execution_count": 172,
   "id": "eb5b6f15-4af6-4eda-9a22-e73d080bd763",
   "metadata": {},
   "outputs": [
    {
     "data": {
      "text/plain": [
       "(7778, 52)"
      ]
     },
     "execution_count": 172,
     "metadata": {},
     "output_type": "execute_result"
    }
   ],
   "source": [
    "df_torch_texas_transpecos_BRIT_zero_geo.shape"
   ]
  },
  {
   "cell_type": "code",
   "execution_count": 173,
   "id": "936ec308-432f-460c-b941-2cb71b0ba9ac",
   "metadata": {},
   "outputs": [],
   "source": [
    "df_torch_texas_transpecos_UT_zero_geo = df_torch_texas_transpecos_zero_geo[(df_torch_texas_transpecos_zero_geo['institutionCode'].isin(UT_plus))]"
   ]
  },
  {
   "cell_type": "code",
   "execution_count": 174,
   "id": "c3e71ffd-3722-42d5-9a23-0c23aa90a569",
   "metadata": {},
   "outputs": [
    {
     "data": {
      "text/plain": [
       "(13574, 52)"
      ]
     },
     "execution_count": 174,
     "metadata": {},
     "output_type": "execute_result"
    }
   ],
   "source": [
    "df_torch_texas_transpecos_UT_zero_geo.shape"
   ]
  },
  {
   "cell_type": "code",
   "execution_count": 176,
   "id": "2d42c0ce-51f4-4c21-ae2c-bf8a19148881",
   "metadata": {},
   "outputs": [
    {
     "data": {
      "text/plain": [
       "5871"
      ]
     },
     "execution_count": 176,
     "metadata": {},
     "output_type": "execute_result"
    }
   ],
   "source": [
    "# unique loc in TP\n",
    "#df['hID'].nunique()\n",
    "df_torch_texas_transpecos_zero_geo['loc_id'].nunique()"
   ]
  },
  {
   "cell_type": "code",
   "execution_count": 177,
   "id": "b9bb25e0-9566-42ee-8bcc-afb70ad64be2",
   "metadata": {},
   "outputs": [],
   "source": [
    "# Compare to total number of records held by BRIT and UT\n",
    "df_transpecos_occ = df_occ[(df_occ['county'].isin(tx_transpecos_counties))]"
   ]
  },
  {
   "cell_type": "code",
   "execution_count": 178,
   "id": "eeacddef-c778-4b38-b7e1-3010bf6d234d",
   "metadata": {},
   "outputs": [
    {
     "data": {
      "text/plain": [
       "(68173, 49)"
      ]
     },
     "execution_count": 178,
     "metadata": {},
     "output_type": "execute_result"
    }
   ],
   "source": [
    "df_transpecos_occ.shape"
   ]
  },
  {
   "cell_type": "code",
   "execution_count": null,
   "id": "ea6690f1-fd09-445a-89aa-51ecfeb7d135",
   "metadata": {},
   "outputs": [],
   "source": []
  },
  {
   "cell_type": "code",
   "execution_count": null,
   "id": "31454a2c-fd47-45a6-ad41-e6caff73c6ff",
   "metadata": {},
   "outputs": [],
   "source": []
  },
  {
   "cell_type": "code",
   "execution_count": null,
   "id": "b062dc51-d22c-4cec-9363-da7272eef394",
   "metadata": {},
   "outputs": [],
   "source": []
  },
  {
   "cell_type": "code",
   "execution_count": null,
   "id": "b2e9070a-6750-4ce6-9a76-58aff817c678",
   "metadata": {},
   "outputs": [],
   "source": []
  }
 ],
 "metadata": {
  "kernelspec": {
   "display_name": "Python 3 (ipykernel)",
   "language": "python",
   "name": "python3"
  },
  "language_info": {
   "codemirror_mode": {
    "name": "ipython",
    "version": 3
   },
   "file_extension": ".py",
   "mimetype": "text/x-python",
   "name": "python",
   "nbconvert_exporter": "python",
   "pygments_lexer": "ipython3",
   "version": "3.10.12"
  }
 },
 "nbformat": 4,
 "nbformat_minor": 5
}
