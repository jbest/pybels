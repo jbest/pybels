{
 "cells": [
  {
   "cell_type": "code",
   "execution_count": 111,
   "id": "10d5c55b-a50b-4051-8c93-320ba4fa31d0",
   "metadata": {},
   "outputs": [
    {
     "data": {
      "text/plain": [
       "'\\n#Loads a CSV DwC occurrence file that has been augmented with BELS locality strings\\n'"
      ]
     },
     "execution_count": 111,
     "metadata": {},
     "output_type": "execute_result"
    }
   ],
   "source": [
    "\"\"\"\n",
    "#Loads a CSV DwC occurrence file that has been augmented with BELS locality strings\n",
    "\"\"\""
   ]
  },
  {
   "cell_type": "code",
   "execution_count": 2,
   "id": "c61251ce-f28e-4241-b613-cf19bff315a9",
   "metadata": {},
   "outputs": [],
   "source": [
    "import pandas as pd\n",
    "import matplotlib\n",
    "\n",
    "# switch to suppress CSV writing (which is slow)\n",
    "write_csv = True"
   ]
  },
  {
   "cell_type": "code",
   "execution_count": 3,
   "id": "3f7962e2-b7e9-4fce-9e68-abf3139f9ba3",
   "metadata": {},
   "outputs": [],
   "source": [
    "# BRIT UT colab\n",
    "df_occ = pd.read_csv('torch_bels_BRIT_UT_locs.csv', low_memory=False, sep='\\t')\n"
   ]
  },
  {
   "cell_type": "code",
   "execution_count": 17,
   "id": "2b64c015-5245-4030-9d88-e98bc0e799f7",
   "metadata": {},
   "outputs": [],
   "source": [
    "# file name components to make writing CSVs dynamic and prevent overwrites\n",
    "batch_prefix = 'TORCH'\n",
    "batch_designator = 'BRIT_UT'"
   ]
  },
  {
   "cell_type": "code",
   "execution_count": 7,
   "id": "c3de6262-33d4-4dc4-a292-92b759b36714",
   "metadata": {},
   "outputs": [
    {
     "data": {
      "text/plain": [
       "(513076, 96)"
      ]
     },
     "execution_count": 7,
     "metadata": {},
     "output_type": "execute_result"
    }
   ],
   "source": [
    "df_occ.shape"
   ]
  },
  {
   "cell_type": "code",
   "execution_count": 8,
   "id": "9e63d2a7-cb74-4062-83d8-62f899bfd4e7",
   "metadata": {},
   "outputs": [],
   "source": [
    "# Counties for initial comparision\n",
    "tx_transpecos_counties = ['Brewster','Jeff Davis','Presidio','El Paso','Val Verde','Culberson','Hudspeth','Terrell','Reeves','Winkler','Ward','Crockett','Loving','Crane','Upton']"
   ]
  },
  {
   "cell_type": "code",
   "execution_count": 32,
   "id": "bb4b35d4-dd6d-4de5-a3fa-5809c4638bcf",
   "metadata": {},
   "outputs": [],
   "source": [
    "# Drop irrelevant colums\n",
    "# NOTE not all of these columns occur across all collections\n",
    "#drop_columns= ['higherClassification','kingdom','phylum','class','order','identificationReferences','identificationRemarks','taxonRemarks','identificationQualifier','typeStatus','fieldNumber','eventID','informationWithheld','dataGeneralizations','dynamicProperties','associatedSequences','associatedTaxa','reproductiveCondition','establishmentMeans','lifeStage','sex','individualCount','samplingProtocol','preparations','continent','waterBody','islandGroup','island','rights','rightsHolder','accessRights','recordID','type','license','bibliographicCitation','datasetName','fieldNotes','countryCode','nomenclaturalCode','nomenclaturalStatus','associatedMedia','higherGeography','institutionID','georeferencedDate','datasetID','occurrenceStatus','verbatimLocality','organismID','previousIdentifications','eventTime','eventRemarks','locationAccordingTo','verbatimCoordinateSystem','footprintWKT','earliestEonOrLowestEonothem','earliestEraOrLowestErathem','earliestPeriodOrLowestSystem','earliestEpochOrLowestSeries','earliestAgeOrLowestStage','group','formation','member','identificationVerificationStatus','scientificNameID']\n",
    "\n",
    "# more agressive drop\n",
    "drop_columns= ['higherClassification','kingdom','phylum','class','order','identificationReferences',\n",
    "               'identificationRemarks','taxonRemarks','identificationQualifier','typeStatus','fieldNumber',\n",
    "               'eventID','informationWithheld','dataGeneralizations','dynamicProperties','associatedSequences',\n",
    "               'associatedTaxa','reproductiveCondition','establishmentMeans','lifeStage','sex','individualCount',\n",
    "               'samplingProtocol','preparations','continent','waterBody','islandGroup','island','rights','rightsHolder',\n",
    "               'accessRights','recordID','type','license','bibliographicCitation','datasetName','fieldNotes','countryCode',\n",
    "               'nomenclaturalCode','nomenclaturalStatus','associatedMedia','higherGeography','institutionID','georeferencedDate',\n",
    "               'datasetID','occurrenceStatus','verbatimLocality','organismID','previousIdentifications','eventTime',\n",
    "               'eventRemarks','locationAccordingTo','verbatimCoordinateSystem','footprintWKT','earliestEonOrLowestEonothem',\n",
    "               'earliestEraOrLowestErathem','earliestPeriodOrLowestSystem','earliestEpochOrLowestSeries','earliestAgeOrLowestStage',\n",
    "               'group','formation','member','identificationVerificationStatus','scientificNameID',\n",
    "               'basisOfRecord','subgenus','specificEpithet','verbatimTaxonRank','infraspecificEpithet','taxonRank','identifiedBy',\n",
    "               'dateIdentified','year','month','day','startDayOfYear','endDayOfYear'\n",
    "              ]\n",
    "\n",
    "\n",
    "df_occ = df_occ.drop(columns=drop_columns, errors='ignore')"
   ]
  },
  {
   "cell_type": "code",
   "execution_count": 33,
   "id": "d8ce3fd1-65a5-4901-b8a6-c7a74eb54116",
   "metadata": {},
   "outputs": [
    {
     "data": {
      "text/plain": [
       "(513076, 49)"
      ]
     },
     "execution_count": 33,
     "metadata": {},
     "output_type": "execute_result"
    }
   ],
   "source": [
    "df_occ.shape"
   ]
  },
  {
   "cell_type": "code",
   "execution_count": 34,
   "id": "16ad9ef1-d969-420a-bf3a-41a760f6faf9",
   "metadata": {},
   "outputs": [],
   "source": [
    "# Find duplicate records\n",
    "df_matches = df_occ[df_occ['bels_location_string'].duplicated(keep=False)]\n",
    "#df_matches = df_denton[df_denton.bels_matchwithcoords"
   ]
  },
  {
   "cell_type": "code",
   "execution_count": 35,
   "id": "5bf6483c-299c-4640-8a3d-65af99aaebf6",
   "metadata": {},
   "outputs": [
    {
     "data": {
      "text/plain": [
       "(327700, 49)"
      ]
     },
     "execution_count": 35,
     "metadata": {},
     "output_type": "execute_result"
    }
   ],
   "source": [
    "df_matches.shape"
   ]
  },
  {
   "cell_type": "code",
   "execution_count": 36,
   "id": "d3e272de-5508-4d96-8a46-4dbeb4bf53fd",
   "metadata": {},
   "outputs": [],
   "source": [
    "# Add location ID\n",
    "# first create a copy to avoid copy of a slice of a DF\n",
    "df_matches = df_matches.copy()\n",
    "# https://stackoverflow.com/a/51110197 or https://stackoverflow.com/a/51110205\n",
    "df_matches['loc_id'] = df_matches.groupby(['bels_location_string']).ngroup()"
   ]
  },
  {
   "cell_type": "code",
   "execution_count": 37,
   "id": "74ff8d1a-59f4-486b-9c48-00d347f4656e",
   "metadata": {},
   "outputs": [],
   "source": [
    "# Add dup loc count column for the size of each location cluster (number of duplicate locations)\n",
    "#https://stackoverflow.com/a/46768694\n",
    "df_matches['dup_loc_count'] = df_matches.groupby(['bels_location_string']).transform('size')"
   ]
  },
  {
   "cell_type": "code",
   "execution_count": 39,
   "id": "2afc38e3-633d-469c-b55f-712aac705977",
   "metadata": {},
   "outputs": [],
   "source": [
    "# Add a count of the number of records in each dup gruoup that have a geocoord\n",
    "# https://www.statology.org/pandas-groupby-count-with-condition/\n",
    "#df.groupby('var1')['var2'].apply(lambda x: (x=='val').sum()).reset_index(name='count')\n",
    "#['decimalLatitude'].isna()\n",
    "df_counts = df_matches.groupby('loc_id')['decimalLatitude'].apply(lambda x: (x.isna()).sum()).reset_index(name='count')"
   ]
  },
  {
   "cell_type": "code",
   "execution_count": 40,
   "id": "bed5ed9e-cbab-4914-ad29-75031776ba2b",
   "metadata": {},
   "outputs": [],
   "source": [
    "# With help from Claude.ai, a new approach to store the results into the original dataframe:\n",
    "df_matches['loc_geo_count'] = df_matches.groupby('loc_id')['decimalLatitude'].transform(lambda x: (x.notna()).sum())"
   ]
  },
  {
   "cell_type": "code",
   "execution_count": 41,
   "id": "0c7815dd-771f-48ea-9de8-43ece9247269",
   "metadata": {},
   "outputs": [
    {
     "data": {
      "text/plain": [
       "(327700, 52)"
      ]
     },
     "execution_count": 41,
     "metadata": {},
     "output_type": "execute_result"
    }
   ],
   "source": [
    "df_matches.shape"
   ]
  },
  {
   "cell_type": "code",
   "execution_count": 42,
   "id": "3d5814dd-3986-46a7-b550-264c05a9e797",
   "metadata": {},
   "outputs": [],
   "source": [
    "# count number of locations with no georef\n",
    "df_zero_geo = df_matches[df_matches['loc_geo_count'] == 0]"
   ]
  },
  {
   "cell_type": "code",
   "execution_count": 47,
   "id": "bfb55f99-564d-4d60-8ef6-abd6bde173ff",
   "metadata": {},
   "outputs": [
    {
     "data": {
      "text/plain": [
       "(153264, 52)"
      ]
     },
     "execution_count": 47,
     "metadata": {},
     "output_type": "execute_result"
    }
   ],
   "source": [
    "df_zero_geo.shape"
   ]
  },
  {
   "cell_type": "code",
   "execution_count": 50,
   "id": "8fd287d5-ffc9-45e7-b162-e9849ae54379",
   "metadata": {},
   "outputs": [
    {
     "data": {
      "text/plain": [
       "36338"
      ]
     },
     "execution_count": 50,
     "metadata": {},
     "output_type": "execute_result"
    }
   ],
   "source": [
    "# number of unique locations with zero geo\n",
    "#df_zero_geo['loc_id'].nunique()"
   ]
  },
  {
   "cell_type": "code",
   "execution_count": 53,
   "id": "58dd1d1b-bdd4-45dd-9cad-3f65ea8c4fc0",
   "metadata": {},
   "outputs": [],
   "source": [
    "# in Texas\n",
    "df_zero_geo_tx = df_zero_geo[df_zero_geo['stateProvince'] == 'Texas']"
   ]
  },
  {
   "cell_type": "code",
   "execution_count": 54,
   "id": "1898ae30-d09d-4331-be1f-bbe828b03ed3",
   "metadata": {},
   "outputs": [
    {
     "data": {
      "text/plain": [
       "(128698, 52)"
      ]
     },
     "execution_count": 54,
     "metadata": {},
     "output_type": "execute_result"
    }
   ],
   "source": [
    "df_zero_geo_tx.shape"
   ]
  },
  {
   "cell_type": "code",
   "execution_count": 44,
   "id": "a0abbfac-1745-4daf-93d1-a062f4767ef2",
   "metadata": {},
   "outputs": [],
   "source": [
    "if write_csv:\n",
    "    filename = batch_prefix+'_'+batch_designator+'_matches_loc_id.csv'\n",
    "    df_matches.to_csv(filename)"
   ]
  },
  {
   "cell_type": "code",
   "execution_count": 45,
   "id": "0ec199d9-d097-4bcd-b7f4-0a81e6e1db57",
   "metadata": {},
   "outputs": [],
   "source": [
    "if write_csv:\n",
    "    filename = batch_prefix+'_'+batch_designator+'_zero_geo.csv'\n",
    "    df_zero_geo.to_csv(filename)"
   ]
  },
  {
   "cell_type": "code",
   "execution_count": 60,
   "id": "7bc798b4-950c-41e0-a736-07604d029c0a",
   "metadata": {},
   "outputs": [],
   "source": [
    "# filter loc with insufficient locality string\n",
    "# Drop records with only the state name in bels string\n",
    "df_zero_geo_state_only = df_zero_geo_tx[~df_zero_geo_tx.apply(lambda row: row['stateProvince'].lower() == row['bels_location_string'].lower(), axis=1)]\n",
    "\n",
    "# remove state + county matches\n",
    "df_zero_geo_state_county_only = df_zero_geo_state_only[~df_zero_geo_state_only.apply(lambda row: (str(row['stateProvince']) + str(row['county'])).lower() == row['bels_location_string'].lower(), axis=1)]\n",
    "\n"
   ]
  },
  {
   "cell_type": "code",
   "execution_count": 61,
   "id": "0fb5c8f9-779e-4c2a-befd-7bb9d9948ff9",
   "metadata": {},
   "outputs": [
    {
     "data": {
      "text/plain": [
       "(124596, 52)"
      ]
     },
     "execution_count": 61,
     "metadata": {},
     "output_type": "execute_result"
    }
   ],
   "source": [
    "df_zero_geo_state_county_only.shape"
   ]
  },
  {
   "cell_type": "code",
   "execution_count": 62,
   "id": "9237d140-1662-4a37-919a-d80c3ead38f0",
   "metadata": {},
   "outputs": [],
   "source": [
    "if write_csv:\n",
    "    filename = batch_prefix+'_'+batch_designator+'_zero_geo_state_county_only.csv'\n",
    "    #df_matches.to_csv('TORCH_bels_matches_loc_id.csv')\n",
    "    df_zero_geo_state_county_only.to_csv(filename)"
   ]
  },
  {
   "cell_type": "code",
   "execution_count": null,
   "id": "79ab2168-04c6-411d-b5a8-689f0f07a2c0",
   "metadata": {},
   "outputs": [],
   "source": [
    "# TODO\n",
    "# remove other strings that indicate low likelyhood of being able to georef\n",
    "#texasnoadditionallocalitydataonsheet\n",
    "#texastarrantnodata\n",
    "#texasdentondentonconoadditionallocalitydataonsheet\n",
    "#texashendersonnoadditionallocalitydataonsheet\n",
    "# texashendersonhendersonconoadditionallocalitydataonsheet\n",
    "\n",
    "\n",
    "\n"
   ]
  },
  {
   "cell_type": "code",
   "execution_count": null,
   "id": "c8e1516e-7d76-4c25-85b1-a590eb1c681d",
   "metadata": {},
   "outputs": [],
   "source": []
  },
  {
   "cell_type": "code",
   "execution_count": 78,
   "id": "f90ed2f9-f26d-43d6-90e3-c332c3bba052",
   "metadata": {},
   "outputs": [],
   "source": [
    "# add counts by county\n",
    "#df_nogeo_with_geolocdups_nostatecounty\n",
    "county_summary = df_zero_geo_state_county_only.groupby(['stateProvince','county']).agg(\n",
    "    total_location_recs=('loc_id', 'count'),\n",
    "    #sum_id_count=('dup_loc_count', 'sum'),\n",
    "    unique_locations=('loc_id', 'nunique'),\n",
    "    #dup_loc_count=('dup_loc_count', 'min'),\n",
    "    loc_geo_count=('loc_geo_count', 'max')\n",
    ")"
   ]
  },
  {
   "cell_type": "code",
   "execution_count": 79,
   "id": "417dfedf-0a39-47d5-9d1c-52669830a29a",
   "metadata": {},
   "outputs": [
    {
     "data": {
      "text/html": [
       "<div>\n",
       "<style scoped>\n",
       "    .dataframe tbody tr th:only-of-type {\n",
       "        vertical-align: middle;\n",
       "    }\n",
       "\n",
       "    .dataframe tbody tr th {\n",
       "        vertical-align: top;\n",
       "    }\n",
       "\n",
       "    .dataframe thead th {\n",
       "        text-align: right;\n",
       "    }\n",
       "</style>\n",
       "<table border=\"1\" class=\"dataframe\">\n",
       "  <thead>\n",
       "    <tr style=\"text-align: right;\">\n",
       "      <th></th>\n",
       "      <th></th>\n",
       "      <th>total_location_recs</th>\n",
       "      <th>unique_locations</th>\n",
       "      <th>loc_geo_count</th>\n",
       "    </tr>\n",
       "    <tr>\n",
       "      <th>stateProvince</th>\n",
       "      <th>county</th>\n",
       "      <th></th>\n",
       "      <th></th>\n",
       "      <th></th>\n",
       "    </tr>\n",
       "  </thead>\n",
       "  <tbody>\n",
       "    <tr>\n",
       "      <th rowspan=\"11\" valign=\"top\">Texas</th>\n",
       "      <th>Anderson</th>\n",
       "      <td>1445</td>\n",
       "      <td>265</td>\n",
       "      <td>0</td>\n",
       "    </tr>\n",
       "    <tr>\n",
       "      <th>Andrews</th>\n",
       "      <td>146</td>\n",
       "      <td>44</td>\n",
       "      <td>0</td>\n",
       "    </tr>\n",
       "    <tr>\n",
       "      <th>Angelina</th>\n",
       "      <td>715</td>\n",
       "      <td>166</td>\n",
       "      <td>0</td>\n",
       "    </tr>\n",
       "    <tr>\n",
       "      <th>Aransas</th>\n",
       "      <td>941</td>\n",
       "      <td>207</td>\n",
       "      <td>0</td>\n",
       "    </tr>\n",
       "    <tr>\n",
       "      <th>Archer</th>\n",
       "      <td>232</td>\n",
       "      <td>43</td>\n",
       "      <td>0</td>\n",
       "    </tr>\n",
       "    <tr>\n",
       "      <th>...</th>\n",
       "      <td>...</td>\n",
       "      <td>...</td>\n",
       "      <td>...</td>\n",
       "    </tr>\n",
       "    <tr>\n",
       "      <th>Yoakum</th>\n",
       "      <td>18</td>\n",
       "      <td>5</td>\n",
       "      <td>0</td>\n",
       "    </tr>\n",
       "    <tr>\n",
       "      <th>Young</th>\n",
       "      <td>137</td>\n",
       "      <td>42</td>\n",
       "      <td>0</td>\n",
       "    </tr>\n",
       "    <tr>\n",
       "      <th>Zapata</th>\n",
       "      <td>246</td>\n",
       "      <td>72</td>\n",
       "      <td>0</td>\n",
       "    </tr>\n",
       "    <tr>\n",
       "      <th>Zavala</th>\n",
       "      <td>163</td>\n",
       "      <td>45</td>\n",
       "      <td>0</td>\n",
       "    </tr>\n",
       "    <tr>\n",
       "      <th>mitchell</th>\n",
       "      <td>1</td>\n",
       "      <td>1</td>\n",
       "      <td>0</td>\n",
       "    </tr>\n",
       "  </tbody>\n",
       "</table>\n",
       "<p>264 rows × 3 columns</p>\n",
       "</div>"
      ],
      "text/plain": [
       "                        total_location_recs  unique_locations  loc_geo_count\n",
       "stateProvince county                                                        \n",
       "Texas         Anderson                 1445               265              0\n",
       "              Andrews                   146                44              0\n",
       "              Angelina                  715               166              0\n",
       "              Aransas                   941               207              0\n",
       "              Archer                    232                43              0\n",
       "...                                     ...               ...            ...\n",
       "              Yoakum                     18                 5              0\n",
       "              Young                     137                42              0\n",
       "              Zapata                    246                72              0\n",
       "              Zavala                    163                45              0\n",
       "              mitchell                    1                 1              0\n",
       "\n",
       "[264 rows x 3 columns]"
      ]
     },
     "execution_count": 79,
     "metadata": {},
     "output_type": "execute_result"
    }
   ],
   "source": [
    "county_summary"
   ]
  },
  {
   "cell_type": "code",
   "execution_count": 81,
   "id": "fbc3de95-e9a6-418c-a826-e135fb936156",
   "metadata": {},
   "outputs": [],
   "source": [
    "if write_csv:\n",
    "    filename = batch_prefix+'_'+batch_designator+'_county_summary.csv'\n",
    "    #df_matches.to_csv('TORCH_bels_matches_loc_id.csv')\n",
    "    county_summary.to_csv(filename)"
   ]
  },
  {
   "cell_type": "code",
   "execution_count": 88,
   "id": "5e475454-9ee4-43ae-b37d-dea674ad2a8e",
   "metadata": {},
   "outputs": [],
   "source": [
    "# add counts by location\n",
    "loc_summary = df_zero_geo_state_county_only.groupby(['stateProvince','county', 'loc_id']).agg(\n",
    "    dup_loc_count=('loc_id', 'count'),\n",
    "    #sum_id_count=('dup_loc_count', 'sum'),\n",
    "    #dup_loc_count=('dup_loc_count', 'max'),\n",
    "    #loc_geo_count=('loc_geo_count', 'max')\n",
    ")"
   ]
  },
  {
   "cell_type": "code",
   "execution_count": 89,
   "id": "aad2d684-5c36-4cd1-871c-27a0d34cb74b",
   "metadata": {},
   "outputs": [
    {
     "data": {
      "text/html": [
       "<div>\n",
       "<style scoped>\n",
       "    .dataframe tbody tr th:only-of-type {\n",
       "        vertical-align: middle;\n",
       "    }\n",
       "\n",
       "    .dataframe tbody tr th {\n",
       "        vertical-align: top;\n",
       "    }\n",
       "\n",
       "    .dataframe thead th {\n",
       "        text-align: right;\n",
       "    }\n",
       "</style>\n",
       "<table border=\"1\" class=\"dataframe\">\n",
       "  <thead>\n",
       "    <tr style=\"text-align: right;\">\n",
       "      <th></th>\n",
       "      <th></th>\n",
       "      <th></th>\n",
       "      <th>dup_loc_count</th>\n",
       "    </tr>\n",
       "    <tr>\n",
       "      <th>stateProvince</th>\n",
       "      <th>county</th>\n",
       "      <th>loc_id</th>\n",
       "      <th></th>\n",
       "    </tr>\n",
       "  </thead>\n",
       "  <tbody>\n",
       "    <tr>\n",
       "      <th rowspan=\"11\" valign=\"top\">Texas</th>\n",
       "      <th rowspan=\"5\" valign=\"top\">Anderson</th>\n",
       "      <th>6811</th>\n",
       "      <td>4</td>\n",
       "    </tr>\n",
       "    <tr>\n",
       "      <th>6812</th>\n",
       "      <td>2</td>\n",
       "    </tr>\n",
       "    <tr>\n",
       "      <th>6813</th>\n",
       "      <td>4</td>\n",
       "    </tr>\n",
       "    <tr>\n",
       "      <th>6814</th>\n",
       "      <td>2</td>\n",
       "    </tr>\n",
       "    <tr>\n",
       "      <th>6815</th>\n",
       "      <td>4</td>\n",
       "    </tr>\n",
       "    <tr>\n",
       "      <th>...</th>\n",
       "      <th>...</th>\n",
       "      <td>...</td>\n",
       "    </tr>\n",
       "    <tr>\n",
       "      <th rowspan=\"4\" valign=\"top\">Zavala</th>\n",
       "      <th>65426</th>\n",
       "      <td>3</td>\n",
       "    </tr>\n",
       "    <tr>\n",
       "      <th>65427</th>\n",
       "      <td>2</td>\n",
       "    </tr>\n",
       "    <tr>\n",
       "      <th>65428</th>\n",
       "      <td>2</td>\n",
       "    </tr>\n",
       "    <tr>\n",
       "      <th>65429</th>\n",
       "      <td>3</td>\n",
       "    </tr>\n",
       "    <tr>\n",
       "      <th>mitchell</th>\n",
       "      <th>44056</th>\n",
       "      <td>1</td>\n",
       "    </tr>\n",
       "  </tbody>\n",
       "</table>\n",
       "<p>30607 rows × 1 columns</p>\n",
       "</div>"
      ],
      "text/plain": [
       "                               dup_loc_count\n",
       "stateProvince county   loc_id               \n",
       "Texas         Anderson 6811                4\n",
       "                       6812                2\n",
       "                       6813                4\n",
       "                       6814                2\n",
       "                       6815                4\n",
       "...                                      ...\n",
       "              Zavala   65426               3\n",
       "                       65427               2\n",
       "                       65428               2\n",
       "                       65429               3\n",
       "              mitchell 44056               1\n",
       "\n",
       "[30607 rows x 1 columns]"
      ]
     },
     "execution_count": 89,
     "metadata": {},
     "output_type": "execute_result"
    }
   ],
   "source": [
    "loc_summary"
   ]
  },
  {
   "cell_type": "code",
   "execution_count": 86,
   "id": "ae9ffa1e-fbf9-4ac8-bfe5-e713686f21b0",
   "metadata": {},
   "outputs": [],
   "source": [
    "if write_csv:\n",
    "    filename = batch_prefix+'_'+batch_designator+'_loc_summary.csv'\n",
    "    #df_matches.to_csv('TORCH_bels_matches_loc_id.csv')\n",
    "    loc_summary.to_csv(filename)"
   ]
  },
  {
   "cell_type": "code",
   "execution_count": null,
   "id": "12f1cefd-d8be-491a-93ff-90a4c9a16125",
   "metadata": {},
   "outputs": [],
   "source": []
  },
  {
   "cell_type": "code",
   "execution_count": null,
   "id": "db7b3241-8c33-49cb-ade8-1995cc51066a",
   "metadata": {},
   "outputs": [],
   "source": []
  },
  {
   "cell_type": "code",
   "execution_count": null,
   "id": "280a36f6-83d5-4490-b815-c3b942d277fa",
   "metadata": {},
   "outputs": [],
   "source": []
  },
  {
   "cell_type": "code",
   "execution_count": 125,
   "id": "d1f12a70-8997-407c-84a7-cdc498679433",
   "metadata": {},
   "outputs": [],
   "source": [
    "# find records lacking geo\n",
    "#bels_decimallatitude\n",
    "df_nogeo = df_matches[df_matches['decimalLatitude'].isna()]\n",
    "#TODO add loc ID - https://stackoverflow.com/a/51110205\n"
   ]
  },
  {
   "cell_type": "code",
   "execution_count": 126,
   "id": "5a24c884-911f-4f9c-a589-8464f17c8a3c",
   "metadata": {},
   "outputs": [
    {
     "data": {
      "text/plain": [
       "(208011, 64)"
      ]
     },
     "execution_count": 126,
     "metadata": {},
     "output_type": "execute_result"
    }
   ],
   "source": [
    "df_nogeo.shape"
   ]
  },
  {
   "cell_type": "code",
   "execution_count": 127,
   "id": "19da07d8-d630-4e7d-aa70-68943f56db2b",
   "metadata": {},
   "outputs": [],
   "source": [
    "if write_csv:\n",
    "    df_nogeo.to_csv('TORCH_bels_matches_nogeo.csv')"
   ]
  },
  {
   "cell_type": "code",
   "execution_count": 128,
   "id": "d53838b1-eaa3-462e-9393-a4b164a35032",
   "metadata": {},
   "outputs": [],
   "source": [
    "# find records with geo\n",
    "df_geo = df_matches[df_matches['decimalLatitude'].notna()]"
   ]
  },
  {
   "cell_type": "code",
   "execution_count": 131,
   "id": "12da5e88-0541-430d-9ddb-d4f5d3311d77",
   "metadata": {},
   "outputs": [],
   "source": [
    "# all dups with and without geocoords\n",
    "dup_loc_count = df_matches.pivot_table(index = ['bels_location_string'], aggfunc ='size')"
   ]
  },
  {
   "cell_type": "code",
   "execution_count": 132,
   "id": "c4ce0341-1a9a-4f7e-82ce-87ed8826974f",
   "metadata": {},
   "outputs": [
    {
     "data": {
      "text/plain": [
       "(65430,)"
      ]
     },
     "execution_count": 132,
     "metadata": {},
     "output_type": "execute_result"
    }
   ],
   "source": [
    "dup_loc_count.shape"
   ]
  },
  {
   "cell_type": "code",
   "execution_count": 133,
   "id": "9cb76bf0-a0a0-4f2c-bb18-dd07166b75f4",
   "metadata": {},
   "outputs": [],
   "source": [
    "if write_csv:\n",
    "    dup_loc_count.to_csv('TORCH_dup_loc_count.csv')"
   ]
  },
  {
   "cell_type": "code",
   "execution_count": 134,
   "id": "c297e01a-fe76-4f38-982c-a33f8b181783",
   "metadata": {},
   "outputs": [],
   "source": [
    "# dups with no goecoords\n",
    "#dups = df.pivot_table(index = ['Course'], aggfunc ='size') \n",
    "dup_loc_count_no_geo = df_nogeo.pivot_table(index = ['bels_location_string'], aggfunc ='size')"
   ]
  },
  {
   "cell_type": "code",
   "execution_count": 135,
   "id": "cddad54e-b714-4487-abfe-bb76216f750a",
   "metadata": {},
   "outputs": [
    {
     "data": {
      "text/plain": [
       "(44769,)"
      ]
     },
     "execution_count": 135,
     "metadata": {},
     "output_type": "execute_result"
    }
   ],
   "source": [
    "dup_loc_count_no_geo.shape"
   ]
  },
  {
   "cell_type": "code",
   "execution_count": 136,
   "id": "6096a3eb-7b9a-450b-919b-ea69cc435d42",
   "metadata": {},
   "outputs": [],
   "source": [
    "if write_csv:\n",
    "    dup_loc_count_no_geo.to_csv('TORCH_dup_loc_count_nogeo.csv')"
   ]
  },
  {
   "cell_type": "code",
   "execution_count": 137,
   "id": "0ded16c5-6956-4691-a2fb-403b46a618b5",
   "metadata": {},
   "outputs": [],
   "source": [
    "# dups with goecoords\n",
    "dup_loc_count_geo = df_geo.pivot_table(index = ['bels_location_string'], aggfunc ='size')"
   ]
  },
  {
   "cell_type": "code",
   "execution_count": 138,
   "id": "8fca09c5-2be5-42b5-84dc-e3b4724103d4",
   "metadata": {},
   "outputs": [
    {
     "data": {
      "text/plain": [
       "(29092,)"
      ]
     },
     "execution_count": 138,
     "metadata": {},
     "output_type": "execute_result"
    }
   ],
   "source": [
    "dup_loc_count_geo.shape"
   ]
  },
  {
   "cell_type": "code",
   "execution_count": 139,
   "id": "750a98fa-8c1a-4d46-b506-23de30948f55",
   "metadata": {},
   "outputs": [],
   "source": [
    "if write_csv:\n",
    "    dup_loc_count_geo.to_csv('TORCH_dup_loc_count_geo.csv')"
   ]
  },
  {
   "cell_type": "code",
   "execution_count": 148,
   "id": "610e3750-edc4-4845-ad52-fcc9ec5b7d16",
   "metadata": {},
   "outputs": [],
   "source": [
    "#TODO\n",
    "#Load ids of elite georeferencers - EG\n",
    "df_georeferencers = pd.read_csv('TORCH-georeferencers_tested.csv', low_memory=False)\n",
    "\n",
    "#find records with geo that have been done by EGs\n",
    "#find records without geo that match those done by EGs"
   ]
  },
  {
   "cell_type": "code",
   "execution_count": 149,
   "id": "73c7b402-8881-40ed-9880-b7df339560ca",
   "metadata": {},
   "outputs": [],
   "source": [
    "# filter records that have been georeferenced by 'elite' vetted georeferencers\n",
    "df_by_egeo = df_matches[df_matches['georeferencedBy'].isin(df_georeferencers['Username'])]"
   ]
  },
  {
   "cell_type": "code",
   "execution_count": 150,
   "id": "8a20b4b7-5f87-4079-b655-8a7ec03a2c79",
   "metadata": {},
   "outputs": [
    {
     "data": {
      "text/plain": [
       "(30372, 64)"
      ]
     },
     "execution_count": 150,
     "metadata": {},
     "output_type": "execute_result"
    }
   ],
   "source": [
    "df_by_egeo.shape"
   ]
  },
  {
   "cell_type": "code",
   "execution_count": 151,
   "id": "fd596f17-57eb-4a19-a63c-4431cfd38b6f",
   "metadata": {},
   "outputs": [],
   "source": [
    "if write_csv:\n",
    "    df_by_egeo.to_csv('TORCH_df_by_egeo.csv')"
   ]
  },
  {
   "cell_type": "code",
   "execution_count": 152,
   "id": "ff24581b-bf33-433c-b82c-afb2cf2a7a84",
   "metadata": {},
   "outputs": [],
   "source": [
    "# find locations that match loc_id of those done by EG\n",
    "df_loc_match_by_egeo = df_matches[df_matches['loc_id'].isin(df_by_egeo['loc_id'])]"
   ]
  },
  {
   "cell_type": "code",
   "execution_count": 153,
   "id": "fce4be80-e832-4518-8f94-23325340bb67",
   "metadata": {},
   "outputs": [
    {
     "data": {
      "text/plain": [
       "(45211, 64)"
      ]
     },
     "execution_count": 153,
     "metadata": {},
     "output_type": "execute_result"
    }
   ],
   "source": [
    "df_loc_match_by_egeo.shape"
   ]
  },
  {
   "cell_type": "code",
   "execution_count": 154,
   "id": "d0aa603b-dfe5-453d-9b6e-1c8490dddf9c",
   "metadata": {},
   "outputs": [],
   "source": [
    "# find matching locs that have not been georeffed\n",
    "df_loc_match_by_egeo_nogeo = df_loc_match_by_egeo[df_loc_match_by_egeo['decimalLatitude'].isna()]"
   ]
  },
  {
   "cell_type": "code",
   "execution_count": 155,
   "id": "508aa2c4-fff6-41ed-808e-82e83b8b5a27",
   "metadata": {},
   "outputs": [
    {
     "data": {
      "text/plain": [
       "(9424, 64)"
      ]
     },
     "execution_count": 155,
     "metadata": {},
     "output_type": "execute_result"
    }
   ],
   "source": [
    "df_loc_match_by_egeo_nogeo.shape"
   ]
  },
  {
   "cell_type": "code",
   "execution_count": 156,
   "id": "23b82a18-c0ed-4a1d-a1e0-9067ffdcadaa",
   "metadata": {},
   "outputs": [],
   "source": [
    "# find matching locs that have been georeffed\n",
    "df_loc_match_by_egeo_w_geo = df_loc_match_by_egeo[df_loc_match_by_egeo['decimalLatitude'].notna()]"
   ]
  },
  {
   "cell_type": "code",
   "execution_count": 157,
   "id": "58e71aee-8719-4c9d-bbdc-bdf9712ede5f",
   "metadata": {},
   "outputs": [
    {
     "data": {
      "text/plain": [
       "(35787, 64)"
      ]
     },
     "execution_count": 157,
     "metadata": {},
     "output_type": "execute_result"
    }
   ],
   "source": [
    "df_loc_match_by_egeo_w_geo.shape"
   ]
  },
  {
   "cell_type": "code",
   "execution_count": 158,
   "id": "5ec847ac-74fa-4d42-ba32-cd25bcaa3ced",
   "metadata": {},
   "outputs": [
    {
     "data": {
      "text/plain": [
       "(208011, 64)"
      ]
     },
     "execution_count": 158,
     "metadata": {},
     "output_type": "execute_result"
    }
   ],
   "source": [
    "df_nogeo.shape"
   ]
  },
  {
   "cell_type": "code",
   "execution_count": 159,
   "id": "947c47de-99ed-4449-83c7-533c00b5d059",
   "metadata": {},
   "outputs": [],
   "source": [
    "# find dup locs without geo but have other dups that have geo\n",
    "df_nogeo_with_geolocdups = df_nogeo[df_nogeo['loc_id'].isin(df_geo['loc_id'])]"
   ]
  },
  {
   "cell_type": "code",
   "execution_count": 160,
   "id": "69e96a46-e482-47b0-aa4c-6d79c83aa71a",
   "metadata": {},
   "outputs": [
    {
     "data": {
      "text/plain": [
       "(54747, 64)"
      ]
     },
     "execution_count": 160,
     "metadata": {},
     "output_type": "execute_result"
    }
   ],
   "source": [
    "df_nogeo_with_geolocdups.shape"
   ]
  },
  {
   "cell_type": "code",
   "execution_count": 161,
   "id": "329b18c2-fce5-4c4e-9f63-5abfe55f8d50",
   "metadata": {},
   "outputs": [],
   "source": [
    "if write_csv:\n",
    "    df_nogeo_with_geolocdups.to_csv('TORCH_nogeo_with_geolocdups.csv')"
   ]
  },
  {
   "cell_type": "code",
   "execution_count": 162,
   "id": "c46eb5c5-5d7b-4a1c-962b-ecf33ebcfa48",
   "metadata": {},
   "outputs": [],
   "source": [
    "#TODO \n",
    "\n"
   ]
  },
  {
   "cell_type": "code",
   "execution_count": 163,
   "id": "2eda1b94-a599-44da-bf0a-58106ba9dd17",
   "metadata": {},
   "outputs": [],
   "source": [
    "# Drop records with only the state name in bels string\n",
    "#df_nogeo_with_geolocdups_nostates = df_nogeo_with_geolocdups[df_nogeo_with_geolocdups[column1] != df[column2]]\n",
    "\n",
    "df_nogeo_with_geolocdups_nostates = df_nogeo_with_geolocdups[~df_nogeo_with_geolocdups.apply(lambda row: row['stateProvince'].lower() == row['bels_location_string'].lower(), axis=1)]\n"
   ]
  },
  {
   "cell_type": "code",
   "execution_count": 164,
   "id": "7348adfa-dbbb-40d2-9cb1-4c8fecb0a7a4",
   "metadata": {},
   "outputs": [
    {
     "data": {
      "text/plain": [
       "(54747, 64)"
      ]
     },
     "execution_count": 164,
     "metadata": {},
     "output_type": "execute_result"
    }
   ],
   "source": [
    "df_nogeo_with_geolocdups_nostates.shape"
   ]
  },
  {
   "cell_type": "code",
   "execution_count": 165,
   "id": "b2d147df-6d7d-488e-b4eb-a14780cd6b8d",
   "metadata": {},
   "outputs": [],
   "source": [
    "if write_csv:\n",
    "    df_nogeo_with_geolocdups_nostates.to_csv('TORCH_nogeo_with_geolocdups_nostates.csv')"
   ]
  },
  {
   "cell_type": "code",
   "execution_count": 166,
   "id": "367ad0fd-6c62-424b-85b5-f2cbefc031bd",
   "metadata": {},
   "outputs": [],
   "source": [
    "# remove state + county matches\n",
    "df_nogeo_with_geolocdups_nostatecounty = df_nogeo_with_geolocdups_nostates[~df_nogeo_with_geolocdups_nostates.apply(lambda row: (str(row['stateProvince']) + str(row['county'])).lower() == row['bels_location_string'].lower(), axis=1)]"
   ]
  },
  {
   "cell_type": "code",
   "execution_count": 167,
   "id": "8c3e6eec-044f-4d02-9535-2537c2f9b7c9",
   "metadata": {},
   "outputs": [
    {
     "data": {
      "text/plain": [
       "(54669, 64)"
      ]
     },
     "execution_count": 167,
     "metadata": {},
     "output_type": "execute_result"
    }
   ],
   "source": [
    "df_nogeo_with_geolocdups_nostatecounty.shape"
   ]
  },
  {
   "cell_type": "code",
   "execution_count": 168,
   "id": "40985a08-777c-4d6a-9bf5-0225c7c5dca6",
   "metadata": {},
   "outputs": [],
   "source": [
    "if write_csv:\n",
    "    df_nogeo_with_geolocdups_nostatecounty.to_csv('TORCH_nogeo_with_geolocdups_nostatecounties.csv')"
   ]
  },
  {
   "cell_type": "code",
   "execution_count": 169,
   "id": "b43caf7f-7d41-4d90-b036-d73b7e13793c",
   "metadata": {},
   "outputs": [
    {
     "data": {
      "text/plain": [
       "list[Index(['id', 'institutionCode', 'collectionCode', 'ownerInstitutionCode',\n",
       "       'collectionID', 'basisOfRecord', 'occurrenceID', 'catalogNumber',\n",
       "       'otherCatalogNumbers', 'family', 'scientificName', 'taxonID',\n",
       "       'scientificNameAuthorship', 'genus', 'subgenus', 'specificEpithet',\n",
       "       'verbatimTaxonRank', 'infraspecificEpithet', 'taxonRank',\n",
       "       'identifiedBy', 'dateIdentified', 'recordedBy', 'recordNumber',\n",
       "       'eventDate', 'year', 'month', 'day', 'startDayOfYear', 'endDayOfYear',\n",
       "       'verbatimEventDate', 'occurrenceRemarks', 'habitat',\n",
       "       'associatedOccurrences', 'locationID', 'country', 'stateProvince',\n",
       "       'county', 'municipality', 'locality', 'locationRemarks',\n",
       "       'decimalLatitude', 'decimalLongitude', 'geodeticDatum',\n",
       "       'coordinateUncertaintyInMeters', 'verbatimCoordinates',\n",
       "       'georeferencedBy', 'georeferenceProtocol', 'georeferenceSources',\n",
       "       'georeferenceVerificationStatus', 'georeferenceRemarks',\n",
       "       'minimumElevationInMeters', 'maximumElevationInMeters',\n",
       "       'minimumDepthInMeters', 'maximumDepthInMeters', 'verbatimDepth',\n",
       "       'verbatimElevation', 'disposition', 'language', 'recordEnteredBy',\n",
       "       'modified', 'references', 'bels_location_string', 'loc_id',\n",
       "       'dup_loc_count'],\n",
       "      dtype='object')]"
      ]
     },
     "execution_count": 169,
     "metadata": {},
     "output_type": "execute_result"
    }
   ],
   "source": [
    "list[df_nogeo_with_geolocdups_nostatecounty.columns]"
   ]
  },
  {
   "cell_type": "code",
   "execution_count": 188,
   "id": "d87d2842-c8f1-4db4-af47-eb0bdfedc2f9",
   "metadata": {},
   "outputs": [],
   "source": [
    "# add counts by county\n",
    "#df_nogeo_with_geolocdups_nostatecounty\n",
    "county_summary = df_nogeo_with_geolocdups_nostatecounty.groupby(['stateProvince','county']).agg(\n",
    "    total_locations=('loc_id', 'count'),\n",
    "    #sum_id_count=('dup_loc_count', 'sum'),\n",
    "    unique_locations=('loc_id', 'nunique'),\n",
    "    dup_loc_count=('dup_loc_count', 'max')\n",
    ")"
   ]
  },
  {
   "cell_type": "code",
   "execution_count": 189,
   "id": "4e3492d3-b98b-4c57-bd93-c631ef416ceb",
   "metadata": {},
   "outputs": [
    {
     "data": {
      "text/html": [
       "<div>\n",
       "<style scoped>\n",
       "    .dataframe tbody tr th:only-of-type {\n",
       "        vertical-align: middle;\n",
       "    }\n",
       "\n",
       "    .dataframe tbody tr th {\n",
       "        vertical-align: top;\n",
       "    }\n",
       "\n",
       "    .dataframe thead th {\n",
       "        text-align: right;\n",
       "    }\n",
       "</style>\n",
       "<table border=\"1\" class=\"dataframe\">\n",
       "  <thead>\n",
       "    <tr style=\"text-align: right;\">\n",
       "      <th></th>\n",
       "      <th></th>\n",
       "      <th>total_locations</th>\n",
       "      <th>unique_locations</th>\n",
       "      <th>dup_loc_count</th>\n",
       "    </tr>\n",
       "    <tr>\n",
       "      <th>stateProvince</th>\n",
       "      <th>county</th>\n",
       "      <th></th>\n",
       "      <th></th>\n",
       "      <th></th>\n",
       "    </tr>\n",
       "  </thead>\n",
       "  <tbody>\n",
       "    <tr>\n",
       "      <th rowspan=\"5\" valign=\"top\">Oklahoma</th>\n",
       "      <th>Adair</th>\n",
       "      <td>144</td>\n",
       "      <td>29</td>\n",
       "      <td>54</td>\n",
       "    </tr>\n",
       "    <tr>\n",
       "      <th>Alfalfa</th>\n",
       "      <td>11</td>\n",
       "      <td>6</td>\n",
       "      <td>14</td>\n",
       "    </tr>\n",
       "    <tr>\n",
       "      <th>Atoka</th>\n",
       "      <td>55</td>\n",
       "      <td>12</td>\n",
       "      <td>23</td>\n",
       "    </tr>\n",
       "    <tr>\n",
       "      <th>Beaver</th>\n",
       "      <td>7</td>\n",
       "      <td>4</td>\n",
       "      <td>5</td>\n",
       "    </tr>\n",
       "    <tr>\n",
       "      <th>Beckham</th>\n",
       "      <td>5</td>\n",
       "      <td>2</td>\n",
       "      <td>5</td>\n",
       "    </tr>\n",
       "    <tr>\n",
       "      <th>...</th>\n",
       "      <th>...</th>\n",
       "      <td>...</td>\n",
       "      <td>...</td>\n",
       "      <td>...</td>\n",
       "    </tr>\n",
       "    <tr>\n",
       "      <th rowspan=\"5\" valign=\"top\">Texas</th>\n",
       "      <th>Wood</th>\n",
       "      <td>220</td>\n",
       "      <td>31</td>\n",
       "      <td>44</td>\n",
       "    </tr>\n",
       "    <tr>\n",
       "      <th>Yoakum</th>\n",
       "      <td>5</td>\n",
       "      <td>2</td>\n",
       "      <td>9</td>\n",
       "    </tr>\n",
       "    <tr>\n",
       "      <th>Young</th>\n",
       "      <td>14</td>\n",
       "      <td>8</td>\n",
       "      <td>47</td>\n",
       "    </tr>\n",
       "    <tr>\n",
       "      <th>Zapata</th>\n",
       "      <td>193</td>\n",
       "      <td>89</td>\n",
       "      <td>65</td>\n",
       "    </tr>\n",
       "    <tr>\n",
       "      <th>Zavala</th>\n",
       "      <td>2</td>\n",
       "      <td>2</td>\n",
       "      <td>4</td>\n",
       "    </tr>\n",
       "  </tbody>\n",
       "</table>\n",
       "<p>326 rows × 3 columns</p>\n",
       "</div>"
      ],
      "text/plain": [
       "                       total_locations  unique_locations  dup_loc_count\n",
       "stateProvince county                                                   \n",
       "Oklahoma      Adair                144                29             54\n",
       "              Alfalfa               11                 6             14\n",
       "              Atoka                 55                12             23\n",
       "              Beaver                 7                 4              5\n",
       "              Beckham                5                 2              5\n",
       "...                                ...               ...            ...\n",
       "Texas         Wood                 220                31             44\n",
       "              Yoakum                 5                 2              9\n",
       "              Young                 14                 8             47\n",
       "              Zapata               193                89             65\n",
       "              Zavala                 2                 2              4\n",
       "\n",
       "[326 rows x 3 columns]"
      ]
     },
     "execution_count": 189,
     "metadata": {},
     "output_type": "execute_result"
    }
   ],
   "source": [
    "county_summary"
   ]
  },
  {
   "cell_type": "code",
   "execution_count": 172,
   "id": "0ae40f95-8f04-486a-86f3-823977e0e861",
   "metadata": {},
   "outputs": [],
   "source": [
    "county_summary.to_csv('TORCH_county_summary.csv')"
   ]
  },
  {
   "cell_type": "code",
   "execution_count": 173,
   "id": "fe03941c-0b9b-4fa4-b46e-8f3ec9319e42",
   "metadata": {},
   "outputs": [
    {
     "data": {
      "text/plain": [
       "(202546, 64)"
      ]
     },
     "execution_count": 173,
     "metadata": {},
     "output_type": "execute_result"
    }
   ],
   "source": [
    "# returning to unfiltered DF for more comprehensive results\n",
    "\n",
    "#df_nogeo\n",
    "# remove states only\n",
    "df_nogeo_nostates = df_nogeo[~df_nogeo.apply(lambda row: row['stateProvince'].lower() == row['bels_location_string'].lower(), axis=1)]\n",
    "#remove state and county only\n",
    "df_nogeo_nostatecounty = df_nogeo_nostates[~df_nogeo_nostates.apply(lambda row: (str(row['stateProvince']) + str(row['county'])).lower() == row['bels_location_string'].lower(), axis=1)]\n",
    "\n",
    "df_nogeo_nostatecounty.shape\n"
   ]
  },
  {
   "cell_type": "code",
   "execution_count": 174,
   "id": "c5ee249b-9eb3-476e-9386-17243cbc2105",
   "metadata": {},
   "outputs": [
    {
     "name": "stdout",
     "output_type": "stream",
     "text": [
      "\n",
      "Summary with reset index:\n",
      "    stateProvince    county  unique_locations  loc_count\n",
      "0        Oklahoma     Adair               113        433\n",
      "1        Oklahoma   Alfalfa                29         80\n",
      "2        Oklahoma  Angelina                 1          2\n",
      "3        Oklahoma     Atoka               168        857\n",
      "4        Oklahoma    Beaver                30        147\n",
      "..            ...       ...               ...        ...\n",
      "345         Texas    Yoakum                 7         23\n",
      "346         Texas     Young                50        151\n",
      "347         Texas    Zapata               161        439\n",
      "348         Texas    Zavala                47        165\n",
      "349         Texas  mitchell                 1          1\n",
      "\n",
      "[350 rows x 4 columns]\n"
     ]
    }
   ],
   "source": [
    "county_summary_nogeo = df_nogeo_nostatecounty.groupby(['stateProvince','county']).agg(\n",
    "    #total_locations=('loc_id', 'count'),\n",
    "    unique_locations=('loc_id', 'nunique'),\n",
    "    #sum_id_count=('dup_loc_count', 'sum')\n",
    "    loc_count=('loc_id', 'count')\n",
    ")\n",
    "# Reset the index to make 'state' and 'county' regular columns\n",
    "county_summary_nogeo = county_summary_nogeo.reset_index()\n",
    "print(\"\\nSummary with reset index:\")\n",
    "print(county_summary_nogeo)"
   ]
  },
  {
   "cell_type": "code",
   "execution_count": 175,
   "id": "1e4466b5-0972-4417-bcbb-efd652fa04ad",
   "metadata": {},
   "outputs": [],
   "source": [
    "# Same process but only include BRIT records in Texas\n",
    "# returning to unfiltered DF for more comprehensive results\n",
    "\n",
    "#df_nogeo\n",
    "# Texas collections only\n",
    "df_torch_texas_nogeo = df_nogeo[df_nogeo['stateProvince'] == 'Texas']\n",
    "# remove states only\n",
    "df_torch_texas_nogeo_nostates = df_torch_texas_nogeo[~df_torch_texas_nogeo.apply(lambda row: row['stateProvince'].lower() == row['bels_location_string'].lower(), axis=1)]\n",
    "#remove state and county only\n",
    "df_torch_texas_nogeo_nostatecounty = df_torch_texas_nogeo_nostates[~df_torch_texas_nogeo_nostates.apply(lambda row: (str(row['stateProvince']) + str(row['county'])).lower() == row['bels_location_string'].lower(), axis=1)]\n"
   ]
  },
  {
   "cell_type": "code",
   "execution_count": 176,
   "id": "ce440cd9-f6bc-422f-86e7-4a29d14bfc05",
   "metadata": {},
   "outputs": [
    {
     "data": {
      "text/plain": [
       "(175474, 64)"
      ]
     },
     "execution_count": 176,
     "metadata": {},
     "output_type": "execute_result"
    }
   ],
   "source": [
    "df_torch_texas_nogeo_nostatecounty.shape  # old (106414, 64)"
   ]
  },
  {
   "cell_type": "code",
   "execution_count": 177,
   "id": "01c96b0f-7c08-4d48-b347-a67be046bea7",
   "metadata": {},
   "outputs": [
    {
     "data": {
      "text/plain": [
       "(72524, 64)"
      ]
     },
     "execution_count": 177,
     "metadata": {},
     "output_type": "execute_result"
    }
   ],
   "source": [
    "# BRIT collections only\n",
    "df_torch_texas_brit_nogeo = df_torch_texas_nogeo_nostatecounty[(df_torch_texas_nogeo_nostatecounty['institutionCode'] == 'BRIT') | (df_torch_texas_nogeo_nostatecounty['institutionCode'] == 'VDB')]\n",
    "\n",
    "df_torch_texas_brit_nogeo.shape\n"
   ]
  },
  {
   "cell_type": "code",
   "execution_count": 178,
   "id": "762f87f5-c5df-4cea-9d35-3ee48acc00d9",
   "metadata": {},
   "outputs": [],
   "source": [
    "df_torch_texas_brit_nogeo.to_csv('torch_texas_brit_nogeo.csv')"
   ]
  },
  {
   "cell_type": "code",
   "execution_count": 179,
   "id": "bdd19ed6-903d-496d-b4d5-b2713190c048",
   "metadata": {},
   "outputs": [
    {
     "name": "stdout",
     "output_type": "stream",
     "text": [
      "\n",
      "Summary with reset index:\n",
      "    stateProvince    county  unique_locations  loc_count  largest_dups\n",
      "0           Texas  Anderson               204        809            77\n",
      "1           Texas   Andrews                 3          4             4\n",
      "2           Texas  Angelina               136        421            70\n",
      "3           Texas   Aransas               175        725           249\n",
      "4           Texas    Archer                38        145            44\n",
      "..            ...       ...               ...        ...           ...\n",
      "225         Texas      Wise                79        221            68\n",
      "226         Texas      Wood               185        882            58\n",
      "227         Texas     Young                35         99            47\n",
      "228         Texas    Zapata               133        337            65\n",
      "229         Texas    Zavala                28         85            16\n",
      "\n",
      "[230 rows x 5 columns]\n"
     ]
    }
   ],
   "source": [
    "# Summarize BRIT Texas records\n",
    "brit_texas_county_summary_nogeo = df_torch_texas_brit_nogeo.groupby(['stateProvince','county']).agg(\n",
    "    #total_locations=('loc_id', 'count'),\n",
    "    unique_locations=('loc_id', 'nunique'),\n",
    "    #sum_id_count=('dup_loc_count', 'sum')\n",
    "    loc_count=('loc_id', 'count'),\n",
    "    largest_dups = ('dup_loc_count', 'max')\n",
    ")\n",
    "# Reset the index to make 'state' and 'county' regular columns\n",
    "brit_texas_county_summary_nogeo = brit_texas_county_summary_nogeo.reset_index()\n",
    "print(\"\\nSummary with reset index:\")\n",
    "print(brit_texas_county_summary_nogeo)"
   ]
  },
  {
   "cell_type": "code",
   "execution_count": 180,
   "id": "e795c04b-07d2-4a2f-9ca5-a6df54e7f533",
   "metadata": {},
   "outputs": [],
   "source": [
    "#df_torch_texas_nogeo_nostatecounty.shape\n",
    "# export BRIT Texas summary\n",
    "brit_texas_county_summary_nogeo.to_csv('TORCH_brit_texas_county_summary_nogeo.csv')"
   ]
  },
  {
   "cell_type": "code",
   "execution_count": 181,
   "id": "8f25498e-64e3-4acb-b12a-23442e4647cf",
   "metadata": {},
   "outputs": [],
   "source": [
    "#county_summary_nogeo.to_csv('TORCH_county_summary_nogeo.csv')"
   ]
  },
  {
   "cell_type": "code",
   "execution_count": 182,
   "id": "5d4c5c96-b9be-49c6-addf-455b1b9b1f41",
   "metadata": {},
   "outputs": [
    {
     "data": {
      "text/plain": [
       "(99, 64)"
      ]
     },
     "execution_count": 182,
     "metadata": {},
     "output_type": "execute_result"
    }
   ],
   "source": [
    "# Sampling individual counties\n",
    "#df_torch_texas_brit_nogeo\n",
    "# df_torch_texas_brit_nogeo = df_torch_texas_nogeo_nostatecounty[(df_torch_texas_nogeo_nostatecounty['institutionCode'] == 'BRIT') | (df_torch_texas_nogeo_nostatecounty['institutionCode'] == 'VDB')]\n",
    "\n",
    "df_brit_young_nogeo = df_torch_texas_brit_nogeo[df_torch_texas_brit_nogeo['county'] == 'Young']\n",
    "\n",
    "df_brit_young_nogeo.shape\n",
    "\n"
   ]
  },
  {
   "cell_type": "code",
   "execution_count": 183,
   "id": "0c9e3c56-9170-4b39-ac84-029c7641bf42",
   "metadata": {},
   "outputs": [],
   "source": [
    "df_brit_young_nogeo.to_csv('brit_young_nogeo.csv')"
   ]
  },
  {
   "cell_type": "code",
   "execution_count": null,
   "id": "cc6294df-2e4a-4c0e-9f37-3bf958f22920",
   "metadata": {},
   "outputs": [],
   "source": []
  }
 ],
 "metadata": {
  "kernelspec": {
   "display_name": "Python 3 (ipykernel)",
   "language": "python",
   "name": "python3"
  },
  "language_info": {
   "codemirror_mode": {
    "name": "ipython",
    "version": 3
   },
   "file_extension": ".py",
   "mimetype": "text/x-python",
   "name": "python",
   "nbconvert_exporter": "python",
   "pygments_lexer": "ipython3",
   "version": "3.10.12"
  }
 },
 "nbformat": 4,
 "nbformat_minor": 5
}
