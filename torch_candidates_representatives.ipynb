{
 "cells": [
  {
   "cell_type": "code",
   "execution_count": 2,
   "id": "a13d8986-e901-4f52-9149-24b4fc9a7305",
   "metadata": {},
   "outputs": [],
   "source": [
    "import pandas as pd"
   ]
  },
  {
   "cell_type": "code",
   "execution_count": 3,
   "id": "c87797b5-8966-4ed7-a96f-b2fd9e6af6e1",
   "metadata": {},
   "outputs": [],
   "source": [
    "#df_candidates_input = pd.read_csv('TORCH_dup_loc_count_nogeo_candidates.csv', low_memory=False, sep='\\t')"
   ]
  },
  {
   "cell_type": "code",
   "execution_count": 4,
   "id": "addc2acb-ef48-400e-bd73-49a16b34e485",
   "metadata": {},
   "outputs": [
    {
     "data": {
      "text/plain": [
       "(96583, 1)"
      ]
     },
     "execution_count": 4,
     "metadata": {},
     "output_type": "execute_result"
    }
   ],
   "source": [
    "#df_candidates_input.shape"
   ]
  },
  {
   "cell_type": "code",
   "execution_count": 5,
   "id": "774b08b0-c824-4ed6-94db-6580ce7555d6",
   "metadata": {},
   "outputs": [],
   "source": [
    "df = pd.read_csv(\"TORCH_dup_loc_count_nogeo_candidates.csv\")\n",
    "\n",
    "# Filter the dataframe to include only rows where candidate_stage1 is TRUE\n",
    "filtered_df = df[df['candidate_stage1'] == True]\n",
    "\n"
   ]
  },
  {
   "cell_type": "code",
   "execution_count": 6,
   "id": "42e1d668-ef29-401b-b4fe-4de08f048c01",
   "metadata": {},
   "outputs": [
    {
     "name": "stdout",
     "output_type": "stream",
     "text": [
      "Original dataframe shape: (96583, 7)\n",
      "Filtered dataframe shape: (523, 7)\n",
      "\n",
      "First few rows of the filtered dataframe:\n",
      "                                 bels_location_string  count  loc_len  \\\n",
      "8                           texasbrazoscollegestation   2490       25   \n",
      "49                    oklahomamurrayarbucklemountains    681       31   \n",
      "57                             texasbrewsterchisosmts    621       22   \n",
      "59  texasredrivergreenwoodsmithpropertyneofclarksv...    605       62   \n",
      "64  texastylerbigthicketnationalpreservehickorycre...    568       60   \n",
      "\n",
      "    locality_absence_note  unknown_note  data_note candidate_stage1  \n",
      "8                   False         False      False             True  \n",
      "49                  False         False      False             True  \n",
      "57                  False         False      False             True  \n",
      "59                  False         False      False             True  \n",
      "64                  False         False      False             True  \n"
     ]
    }
   ],
   "source": [
    "# Display information about the original and filtered dataframes\n",
    "print(\"Original dataframe shape:\", df.shape)\n",
    "print(\"Filtered dataframe shape:\", filtered_df.shape)\n",
    "\n",
    "# Display the first few rows of the filtered dataframe\n",
    "print(\"\\nFirst few rows of the filtered dataframe:\")\n",
    "print(filtered_df.head())\n",
    "\n"
   ]
  },
  {
   "cell_type": "code",
   "execution_count": null,
   "id": "01aa59c8-bf18-4f74-9177-4d5e5b24c878",
   "metadata": {},
   "outputs": [],
   "source": [
    "# Optionally, save the filtered dataframe to a new CSV file\n",
    "filtered_df.to_csv(\"filtered_candidates.csv\", index=False)\n",
    "print(\"\\nFiltered data saved to 'filtered_candidates.csv'\")"
   ]
  },
  {
   "cell_type": "code",
   "execution_count": null,
   "id": "f6ecd293-35d7-49e8-a735-c9e83e446639",
   "metadata": {},
   "outputs": [],
   "source": [
    "# Read the second CSV file\n",
    "# Replace \"second_file.csv\" with the actual name of your second CSV file\n",
    "#df2 = pd.read_csv(\"second_file.csv\")\n",
    "df_occ = pd.read_csv('torch_bels_locs.csv', low_memory=False, sep='\\t')"
   ]
  },
  {
   "cell_type": "code",
   "execution_count": 8,
   "id": "b536671d-7b5d-47b6-8aa7-b5f5bd089aa7",
   "metadata": {},
   "outputs": [
    {
     "name": "stdout",
     "output_type": "stream",
     "text": [
      "First filtered dataframe shape: (523, 7)\n",
      "Second dataframe original shape: (1358428, 126)\n",
      "Second dataframe filtered shape: (62246, 126)\n",
      "\n",
      "First few rows of the filtered second dataframe:\n",
      "            id institutionCode collectionCode ownerInstitutionCode  \\\n",
      "95    24881221            KANU            NaN                  NaN   \n",
      "122   27914896            KANU            NaN                  NaN   \n",
      "304   22471016            KANU            NaN                  NaN   \n",
      "1109  22479872            KANU            NaN                  NaN   \n",
      "1130  22480130            KANU            NaN                  NaN   \n",
      "\n",
      "                         collectionID      basisOfRecord  \\\n",
      "95    http://grbio.org/cool/iakn-125z  PreservedSpecimen   \n",
      "122   http://grbio.org/cool/iakn-125z  PreservedSpecimen   \n",
      "304   http://grbio.org/cool/iakn-125z  PreservedSpecimen   \n",
      "1109  http://grbio.org/cool/iakn-125z  PreservedSpecimen   \n",
      "1130  http://grbio.org/cool/iakn-125z  PreservedSpecimen   \n",
      "\n",
      "                              occurrenceID catalogNumber otherCatalogNumbers  \\\n",
      "95    01d945e3-e678-4b6f-baa1-4f01343846ad      170275.0                 NaN   \n",
      "122   024415be-325e-4c10-bbe6-51d29fca117b      216525.0                 NaN   \n",
      "304   0267b5ae-ba8b-11e3-8cfe-90b11c41863e      172631.0                 NaN   \n",
      "1109  02a08fb6-ba8b-11e3-8cfe-90b11c41863e      138644.0                 NaN   \n",
      "1130  02a2081b-ba8b-11e3-8cfe-90b11c41863e      219096.0                 NaN   \n",
      "\n",
      "                                   higherClassification  ...  \\\n",
      "95    Plantae|Spermatophyta|Tracheophyta|Magnoliophy...  ...   \n",
      "122   Plantae|Spermatophyta|Tracheophyta|Magnoliophy...  ...   \n",
      "304   Plantae|Spermatophyta|Tracheophyta|Magnoliophy...  ...   \n",
      "1109  Plantae|Spermatophyta|Tracheophyta|Magnoliophy...  ...   \n",
      "1130  Plantae|Spermatophyta|Tracheophyta|Magnoliophy...  ...   \n",
      "\n",
      "     earliestEonOrLowestEonothem earliestEraOrLowestErathem  \\\n",
      "95                           NaN                        NaN   \n",
      "122                          NaN                        NaN   \n",
      "304                          NaN                        NaN   \n",
      "1109                         NaN                        NaN   \n",
      "1130                         NaN                        NaN   \n",
      "\n",
      "     earliestPeriodOrLowestSystem earliestEpochOrLowestSeries  \\\n",
      "95                            NaN                         NaN   \n",
      "122                           NaN                         NaN   \n",
      "304                           NaN                         NaN   \n",
      "1109                          NaN                         NaN   \n",
      "1130                          NaN                         NaN   \n",
      "\n",
      "     earliestAgeOrLowestStage group  formation member  \\\n",
      "95                        NaN   NaN        NaN    NaN   \n",
      "122                       NaN   NaN        NaN    NaN   \n",
      "304                       NaN   NaN        NaN    NaN   \n",
      "1109                      NaN   NaN        NaN    NaN   \n",
      "1130                      NaN   NaN        NaN    NaN   \n",
      "\n",
      "     identificationVerificationStatus  scientificNameID  \n",
      "95                                NaN               NaN  \n",
      "122                               NaN               NaN  \n",
      "304                               NaN               NaN  \n",
      "1109                              NaN               NaN  \n",
      "1130                              NaN               NaN  \n",
      "\n",
      "[5 rows x 126 columns]\n",
      "\n",
      "Filtered second dataframe saved to 'filtered_second_dataframe.csv'\n",
      "\n",
      "Merged dataframe shape: (62246, 132)\n",
      "Merged dataframe saved to 'merged_filtered_dataframes.csv'\n"
     ]
    }
   ],
   "source": [
    "# Filter the second dataframe based on matching \"bels_location\" values\n",
    "filtered_occ = df_occ[df_occ['bels_location_string'].isin(filtered_df['bels_location_string'])]\n",
    "\n",
    "# Display information about the dataframes\n",
    "print(\"First filtered dataframe shape:\", filtered_df.shape)\n",
    "print(\"Second dataframe original shape:\", df_occ.shape)\n",
    "print(\"Second dataframe filtered shape:\", filtered_occ.shape)\n",
    "\n",
    "# Display the first few rows of the filtered second dataframe\n",
    "#print(\"\\nFirst few rows of the filtered second dataframe:\")\n",
    "#print(filtered_occ.head())\n",
    "\n",
    "# Optionally, save the filtered second dataframe to a new CSV file\n",
    "filtered_occ.to_csv(\"filtered_second_dataframe.csv\", index=False)\n",
    "print(\"\\nFiltered second dataframe saved to 'filtered_second_dataframe.csv'\")\n",
    "\n",
    "# If you want to merge the two filtered dataframes\n",
    "merged_df = pd.merge(filtered_df, filtered_occ, left_on='bels_location_string', right_on='bels_location_string', how='inner')\n",
    "print(\"\\nMerged dataframe shape:\", merged_df.shape)\n",
    "\n",
    "# Optionally, save the merged dataframe to a new CSV file\n",
    "merged_df.to_csv(\"merged_filtered_dataframes.csv\", index=False)\n",
    "print(\"Merged dataframe saved to 'merged_filtered_dataframes.csv'\")"
   ]
  },
  {
   "cell_type": "code",
   "execution_count": 9,
   "id": "99ea8a99-98a0-4880-8988-953ec0bdb232",
   "metadata": {},
   "outputs": [],
   "source": [
    "# Create a df with one representative of each loc string\n",
    "deduped_df = merged_df.drop_duplicates(subset='bels_location_string', keep='first')\n",
    "deduped_df.to_csv(\"deduped_df.csv\", index=False)"
   ]
  }
 ],
 "metadata": {
  "kernelspec": {
   "display_name": "Python 3 (ipykernel)",
   "language": "python",
   "name": "python3"
  },
  "language_info": {
   "codemirror_mode": {
    "name": "ipython",
    "version": 3
   },
   "file_extension": ".py",
   "mimetype": "text/x-python",
   "name": "python",
   "nbconvert_exporter": "python",
   "pygments_lexer": "ipython3",
   "version": "3.10.12"
  }
 },
 "nbformat": 4,
 "nbformat_minor": 5
}
